{
 "cells": [
  {
   "cell_type": "markdown",
   "metadata": {},
   "source": [
    "## importing libraries"
   ]
  },
  {
   "cell_type": "code",
   "execution_count": 1,
   "metadata": {},
   "outputs": [
    {
     "data": {
      "text/plain": [
       "'C:\\\\Users\\\\SHUNVI\\\\Documents\\\\PG 2019\\\\Royal Holloway University of London\\\\MSc Data Science and Analytics with a year in Industry\\\\Study Material\\\\Project\\\\Codes\\\\Final Codes'"
      ]
     },
     "execution_count": 1,
     "metadata": {},
     "output_type": "execute_result"
    }
   ],
   "source": [
    "import numpy as np\n",
    "import pandas as pd\n",
    "import os\n",
    "import math\n",
    "import timeit\n",
    "from sklearn.model_selection import train_test_split\n",
    "from sklearn.datasets import load_iris\n",
    "from sklearn.datasets import load_wine\n",
    "from sklearn.datasets import load_digits\n",
    "from sklearn.datasets import load_breast_cancer\n",
    "import random\n",
    "os.getcwd()"
   ]
  },
  {
   "cell_type": "markdown",
   "metadata": {},
   "source": [
    "## Decision Stump Classification"
   ]
  },
  {
   "cell_type": "code",
   "execution_count": 2,
   "metadata": {},
   "outputs": [],
   "source": [
    "class decision_stump_classifier:\n",
    "    def fit(X_train,y_train):\n",
    "        class_less=0\n",
    "        class_great=0\n",
    "        best_attribute=0\n",
    "        best_split_pt=0\n",
    "        best_pmk=-math.inf\n",
    "        first=np.ceil(np.min(X_train,axis=0)*10)*0.1\n",
    "        last=np.ceil(np.max(X_train,axis=0)*10)*0.1\n",
    "        for i in range(X_train.shape[1]):\n",
    "            for s in np.arange(first[i],last[i],1):\n",
    "                unique, counts = np.unique(y_train[X_train[:,i]<s], return_counts=True)\n",
    "                r1=dict(zip(unique, counts))\n",
    "                if len(r1)==0:\n",
    "                    r1.update({0:0}) \n",
    "                max1=max(r1.values())\n",
    "                #sum(dict(zip(unique, counts)).values())\n",
    "                #if i==1:\n",
    "                #print(r1,s,max1)\n",
    "\n",
    "                unique, counts = np.unique(y_train[X_train[:,i]>=s], return_counts=True)\n",
    "                r2=dict(zip(unique, counts))\n",
    "                if len(r2)==0:\n",
    "                    r2.update({0:0}) \n",
    "                max2=max(r2.values())\n",
    "                #sum(dict(zip(unique, counts)).values())\n",
    "                #if i==1:\n",
    "                #print(r2,s,max2)\n",
    "                pmk=max(max1,max2)\n",
    "                #print(pmk)\n",
    "                if pmk>=best_pmk:\n",
    "                    best_attribute=i\n",
    "                    best_split_pt=s\n",
    "                    best_pmk=pmk\n",
    "                    best_r1=r1\n",
    "                    best_r2=r2 \n",
    "                    class_less=list(best_r1.values()).index(max(best_r1.values()))                 \n",
    "                    class_great=list(best_r2.values()).index(max(best_r2.values())) \n",
    "        #print(\"  {} {}  {} {} {} {} {}\".format(best_r1,best_r2,class_less,class_great,best_attribute,best_split_pt,best_pmk))\n",
    "        return (class_less,class_great,best_attribute,best_split_pt)\n",
    "        \n",
    "     \n",
    "    def predict(X_train,y_train,X_test):   \n",
    "        class_less,class_great,best_attribute,best_split_pt=decision_stump_classifier.fit(X_train,y_train) \n",
    "        predict=list(X_test[:,best_attribute]<best_split_pt)\n",
    "        \n",
    "        for i in range(len(predict)):\n",
    "            if predict[i]==True:\n",
    "                predict[i]=class_less\n",
    "            else:\n",
    "                predict[i]=class_great\n",
    "        return np.array(predict) \n",
    "    \n",
    "    def error_rate(y_test):\n",
    "        predict=decision_stump_classifier.predict(X_train,y_train,X_test)\n",
    "        return np.sum(predict==y_test)/len(y_test)"
   ]
  },
  {
   "cell_type": "markdown",
   "metadata": {},
   "source": [
    "#  Iris Dataset"
   ]
  },
  {
   "cell_type": "code",
   "execution_count": 3,
   "metadata": {},
   "outputs": [],
   "source": [
    "iris = load_iris()\n",
    "X_train, X_test, y_train, y_test = train_test_split(iris.data, iris.target, random_state = 0)"
   ]
  },
  {
   "cell_type": "code",
   "execution_count": 4,
   "metadata": {},
   "outputs": [
    {
     "data": {
      "text/plain": [
       "array([0, 1, 2])"
      ]
     },
     "execution_count": 4,
     "metadata": {},
     "output_type": "execute_result"
    }
   ],
   "source": [
    "np.unique(iris.target)"
   ]
  },
  {
   "cell_type": "code",
   "execution_count": 5,
   "metadata": {},
   "outputs": [
    {
     "data": {
      "text/plain": [
       "(0, 1, 3, 1.1)"
      ]
     },
     "execution_count": 5,
     "metadata": {},
     "output_type": "execute_result"
    }
   ],
   "source": [
    "decision_stump_classifier.fit(X_train,y_train)"
   ]
  },
  {
   "cell_type": "code",
   "execution_count": 6,
   "metadata": {},
   "outputs": [
    {
     "data": {
      "text/plain": [
       "array([1, 0, 0, 1, 0, 1, 0, 1, 1, 1, 1, 1, 1, 1, 1, 0, 1, 1, 0, 0, 1, 1,\n",
       "       0, 0, 1, 0, 0, 1, 0, 0, 1, 1, 0, 1, 1, 1, 0, 1])"
      ]
     },
     "execution_count": 6,
     "metadata": {},
     "output_type": "execute_result"
    }
   ],
   "source": [
    "decision_stump_classifier.predict(X_train,y_train,X_test)"
   ]
  },
  {
   "cell_type": "code",
   "execution_count": 7,
   "metadata": {},
   "outputs": [
    {
     "data": {
      "text/plain": [
       "0.7105263157894737"
      ]
     },
     "execution_count": 7,
     "metadata": {},
     "output_type": "execute_result"
    }
   ],
   "source": [
    "decision_stump_classifier.error_rate(y_test)"
   ]
  },
  {
   "cell_type": "code",
   "execution_count": 61,
   "metadata": {},
   "outputs": [
    {
     "data": {
      "text/plain": [
       "array([5.8, 6. , 5.5, 7.3, 5. , 6.3, 5. , 6.7, 6.8, 6.1, 6.1, 6.4, 6.1,\n",
       "       6.5, 6.1, 4.9, 6. , 5.5, 4.8, 5.4, 5.6, 5.6, 4.8, 4.4, 6.2, 4.6,\n",
       "       5.1, 6.2, 5. , 5. , 6.4, 5.4, 5.2, 6.1, 6.4, 5.2, 5.7, 6. ])"
      ]
     },
     "execution_count": 61,
     "metadata": {},
     "output_type": "execute_result"
    }
   ],
   "source": [
    "X_test[:,0]"
   ]
  },
  {
   "cell_type": "markdown",
   "metadata": {},
   "source": [
    "## Bagging Classification"
   ]
  },
  {
   "cell_type": "code",
   "execution_count": 10,
   "metadata": {},
   "outputs": [],
   "source": [
    "def bagging_classifier(X_train,X_test,y_train,B=5,n=int(0.66*(X_train.shape[0]))):\n",
    "    \n",
    "    \n",
    "    prediction=np.ones((X_test.shape[0],B))*5\n",
    "    for i in range(B):\n",
    "        bag=list(np.random.choice(X_train.shape[0], n))\n",
    "        #print(bag)\n",
    "        boostrap_data=X_train[bag,]\n",
    "        boostrap_label=y_train[bag]\n",
    "        decision_stump_classifier.fit(boostrap_data,boostrap_label)\n",
    "        print(decision_stump_classifier.fit(boostrap_data,boostrap_label) )\n",
    "        prediction[:,i]=decision_stump_classifier.predict(boostrap_data,boostrap_label,X_test) \n",
    "        #print(prediction)\n",
    "    mode_prediction=np.zeros(X_test.shape[0])\n",
    "    for i in range(prediction.shape[0]):\n",
    "        unique, counts = np.unique(prediction[i,:], return_counts=True)\n",
    "        nn=dict(zip(unique, counts))\n",
    "        mode_prediction[i]=list(nn.values()).index(max(nn.values()))    \n",
    "    return mode_prediction    "
   ]
  },
  {
   "cell_type": "code",
   "execution_count": 11,
   "metadata": {},
   "outputs": [
    {
     "name": "stdout",
     "output_type": "stream",
     "text": [
      "(0, 0, 3, 2.1)\n"
     ]
    },
    {
     "data": {
      "text/plain": [
       "array([0., 0., 0., 0., 0., 0., 0., 0., 0., 0., 0., 0., 0., 0., 0., 0., 0.,\n",
       "       0., 0., 0., 0., 0., 0., 0., 0., 0., 0., 0., 0., 0., 0., 0., 0., 0.,\n",
       "       0., 0., 0., 0.])"
      ]
     },
     "execution_count": 11,
     "metadata": {},
     "output_type": "execute_result"
    }
   ],
   "source": [
    "bagging_classifier(X_train,X_test,y_train,B=1,n=int(0.66*(X_train.shape[0])))"
   ]
  },
  {
   "cell_type": "markdown",
   "metadata": {},
   "source": [
    "# Wine Dataset"
   ]
  },
  {
   "cell_type": "code",
   "execution_count": 12,
   "metadata": {},
   "outputs": [],
   "source": [
    "wine =  load_wine()\n",
    "X_train, X_test, y_train, y_test = train_test_split(wine.data, wine.target, random_state = 0)"
   ]
  },
  {
   "cell_type": "code",
   "execution_count": 13,
   "metadata": {},
   "outputs": [
    {
     "data": {
      "text/plain": [
       "(1, 0, 12, 1546.0)"
      ]
     },
     "execution_count": 13,
     "metadata": {},
     "output_type": "execute_result"
    }
   ],
   "source": [
    "decision_stump_classifier.fit(X_train,y_train)  "
   ]
  },
  {
   "cell_type": "code",
   "execution_count": 14,
   "metadata": {},
   "outputs": [
    {
     "data": {
      "text/plain": [
       "array([1, 1, 1, 1, 1, 1, 1, 1, 1, 1, 1, 1, 1, 1, 1, 1, 1, 0, 1, 1, 1, 1,\n",
       "       1, 1, 1, 1, 1, 1, 1, 1, 1, 1, 1, 1, 1, 1, 1, 1, 1, 1, 1, 1, 1, 1,\n",
       "       1])"
      ]
     },
     "execution_count": 14,
     "metadata": {},
     "output_type": "execute_result"
    }
   ],
   "source": [
    "decision_stump_classifier.predict(X_train,y_train,X_test)  "
   ]
  },
  {
   "cell_type": "code",
   "execution_count": 15,
   "metadata": {},
   "outputs": [
    {
     "data": {
      "text/plain": [
       "0.4888888888888889"
      ]
     },
     "execution_count": 15,
     "metadata": {},
     "output_type": "execute_result"
    }
   ],
   "source": [
    "decision_stump_classifier.error_rate(y_test)"
   ]
  },
  {
   "cell_type": "code",
   "execution_count": 16,
   "metadata": {},
   "outputs": [
    {
     "name": "stdout",
     "output_type": "stream",
     "text": [
      "(2, 0, 12, 1514.0)\n",
      "(0, 0, 12, 770.0)\n",
      "(1, 0, 12, 1509.0)\n",
      "(1, 0, 12, 1509.0)\n",
      "(1, 0, 12, 1514.0)\n",
      "(1, 0, 12, 1546.0)\n",
      "(1, 0, 12, 1514.0)\n",
      "(1, 0, 12, 1546.0)\n",
      "(1, 0, 12, 1514.0)\n",
      "(1, 0, 12, 1514.0)\n"
     ]
    },
    {
     "data": {
      "text/plain": [
       "array([1., 1., 1., 1., 1., 1., 1., 1., 1., 1., 1., 1., 1., 1., 1., 1., 1.,\n",
       "       0., 1., 1., 1., 1., 1., 1., 1., 1., 1., 1., 1., 1., 1., 1., 1., 1.,\n",
       "       1., 1., 1., 1., 1., 1., 1., 1., 1., 1., 1.])"
      ]
     },
     "execution_count": 16,
     "metadata": {},
     "output_type": "execute_result"
    }
   ],
   "source": [
    "bagging_classifier(X_train,X_test,y_train,B=10,n=int(0.66*(X_train.shape[0])))"
   ]
  },
  {
   "cell_type": "markdown",
   "metadata": {},
   "source": [
    "# Breast Cancer Dataset"
   ]
  },
  {
   "cell_type": "code",
   "execution_count": 17,
   "metadata": {},
   "outputs": [],
   "source": [
    "cancer = load_breast_cancer()\n",
    "X_train, X_test, y_train, y_test = train_test_split(cancer.data, cancer.target, random_state = 0)"
   ]
  },
  {
   "cell_type": "code",
   "execution_count": 18,
   "metadata": {},
   "outputs": [
    {
     "data": {
      "text/plain": [
       "(0, 1, 27, 0.0)"
      ]
     },
     "execution_count": 18,
     "metadata": {},
     "output_type": "execute_result"
    }
   ],
   "source": [
    "decision_stump_classifier.fit(X_train,y_train)  "
   ]
  },
  {
   "cell_type": "code",
   "execution_count": 19,
   "metadata": {},
   "outputs": [
    {
     "data": {
      "text/plain": [
       "array([1, 1, 1, 1, 1, 1, 1, 1, 1, 1, 1, 1, 1, 1, 1, 1, 1, 1, 1, 1, 1, 1,\n",
       "       1, 1, 1, 1, 1, 1, 1, 1, 1, 1, 1, 1, 1, 1, 1, 1, 1, 1, 1, 1, 1, 1,\n",
       "       1, 1, 1, 1, 1, 1, 1, 1, 1, 1, 1, 1, 1, 1, 1, 1, 1, 1, 1, 1, 1, 1,\n",
       "       1, 1, 1, 1, 1, 1, 1, 1, 1, 1, 1, 1, 1, 1, 1, 1, 1, 1, 1, 1, 1, 1,\n",
       "       1, 1, 1, 1, 1, 1, 1, 1, 1, 1, 1, 1, 1, 1, 1, 1, 1, 1, 1, 1, 1, 1,\n",
       "       1, 1, 1, 1, 1, 1, 1, 1, 1, 1, 1, 1, 1, 1, 1, 1, 1, 1, 1, 1, 1, 1,\n",
       "       1, 1, 1, 1, 1, 1, 1, 1, 1, 1, 1])"
      ]
     },
     "execution_count": 19,
     "metadata": {},
     "output_type": "execute_result"
    }
   ],
   "source": [
    "decision_stump_classifier.predict(X_train,y_train,X_test)  "
   ]
  },
  {
   "cell_type": "code",
   "execution_count": 20,
   "metadata": {},
   "outputs": [
    {
     "data": {
      "text/plain": [
       "0.6293706293706294"
      ]
     },
     "execution_count": 20,
     "metadata": {},
     "output_type": "execute_result"
    }
   ],
   "source": [
    "decision_stump_classifier.error_rate(y_test)"
   ]
  },
  {
   "cell_type": "code",
   "execution_count": 55,
   "metadata": {},
   "outputs": [
    {
     "name": "stdout",
     "output_type": "stream",
     "text": [
      "(0, 1, 27, 0.0)\n",
      "(0, 1, 27, 0.0)\n",
      "(0, 1, 27, 0.0)\n",
      "(0, 1, 27, 0.0)\n",
      "(0, 1, 27, 0.0)\n",
      "(0, 1, 27, 0.0)\n",
      "(0, 1, 27, 0.0)\n",
      "(0, 1, 27, 0.0)\n",
      "(0, 1, 27, 0.0)\n",
      "(0, 1, 27, 0.0)\n"
     ]
    },
    {
     "data": {
      "text/plain": [
       "array([0., 0., 0., 0., 0., 0., 0., 0., 0., 0., 0., 0., 0., 0., 0., 0., 0.,\n",
       "       0., 0., 0., 0., 0., 0., 0., 0., 0., 0., 0., 0., 0., 0., 0., 0., 0.,\n",
       "       0., 0., 0., 0., 0., 0., 0., 0., 0., 0., 0., 0., 0., 0., 0., 0., 0.,\n",
       "       0., 0., 0., 0., 0., 0., 0., 0., 0., 0., 0., 0., 0., 0., 0., 0., 0.,\n",
       "       0., 0., 0., 0., 0., 0., 0., 0., 0., 0., 0., 0., 0., 0., 0., 0., 0.,\n",
       "       0., 0., 0., 0., 0., 0., 0., 0., 0., 0., 0., 0., 0., 0., 0., 0., 0.,\n",
       "       0., 0., 0., 0., 0., 0., 0., 0., 0., 0., 0., 0., 0., 0., 0., 0., 0.,\n",
       "       0., 0., 0., 0., 0., 0., 0., 0., 0., 0., 0., 0., 0., 0., 0., 0., 0.,\n",
       "       0., 0., 0., 0., 0., 0., 0.])"
      ]
     },
     "execution_count": 55,
     "metadata": {},
     "output_type": "execute_result"
    }
   ],
   "source": [
    "bagging_classifier(X_train,X_test,y_train,B=10,n=int(0.66*(X_train.shape[0])))"
   ]
  },
  {
   "cell_type": "code",
   "execution_count": null,
   "metadata": {},
   "outputs": [],
   "source": []
  }
 ],
 "metadata": {
  "kernelspec": {
   "display_name": "Python 3",
   "language": "python",
   "name": "python3"
  },
  "language_info": {
   "codemirror_mode": {
    "name": "ipython",
    "version": 3
   },
   "file_extension": ".py",
   "mimetype": "text/x-python",
   "name": "python",
   "nbconvert_exporter": "python",
   "pygments_lexer": "ipython3",
   "version": "3.7.6"
  }
 },
 "nbformat": 4,
 "nbformat_minor": 4
}
