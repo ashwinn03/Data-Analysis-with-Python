{
 "cells": [
  {
   "cell_type": "markdown",
   "metadata": {},
   "source": [
    "## importing libraries"
   ]
  },
  {
   "cell_type": "code",
   "execution_count": 1,
   "metadata": {},
   "outputs": [
    {
     "data": {
      "text/plain": [
       "'C:\\\\Users\\\\SHUNVI\\\\Documents\\\\PG 2019\\\\Royal Holloway University of London\\\\MSc Data Science and Analytics with a year in Industry\\\\Study Material\\\\Project\\\\Codes\\\\Final Codes'"
      ]
     },
     "execution_count": 1,
     "metadata": {},
     "output_type": "execute_result"
    }
   ],
   "source": [
    "import numpy as np\n",
    "import pandas as pd\n",
    "import os\n",
    "import math\n",
    "import timeit\n",
    "from sklearn.model_selection import train_test_split\n",
    "from sklearn.datasets import load_iris\n",
    "from sklearn.datasets import load_wine\n",
    "from sklearn.datasets import load_digits\n",
    "import random\n",
    "os.getcwd()"
   ]
  },
  {
   "cell_type": "markdown",
   "metadata": {},
   "source": [
    "## Decision Stump Classification"
   ]
  },
  {
   "cell_type": "code",
   "execution_count": 2,
   "metadata": {},
   "outputs": [],
   "source": [
    "class decision_stump_classifier:\n",
    "    \n",
    "    def fit(X_train,y_train):\n",
    "        first=np.ceil(np.min(X_train,axis=0)*10)*0.1\n",
    "        last=np.ceil(np.max(X_train,axis=0)*10)*0.1\n",
    "        \n",
    "        class_less=0\n",
    "        class_great=0\n",
    "        best_attribute=0\n",
    "        best_split_pt=0\n",
    "        best_pmk=-math.inf\n",
    "        \n",
    "        for i in range(X_train.shape[1]):\n",
    "            for s in np.arange(first[i],last[i],1):\n",
    "                unique, counts = np.unique(y_train[X_train[:,i]<s], return_counts=True)\n",
    "                r1=dict(zip(unique, counts))\n",
    "                if len(r1)==0:\n",
    "                    r1.update({0:0}) \n",
    "                max1=max(r1.values())\n",
    "                #sum(dict(zip(unique, counts)).values())\n",
    "                #if i==1:\n",
    "                #print(r1,s,max1)\n",
    "\n",
    "                unique, counts = np.unique(y_train[X_train[:,i]>=s], return_counts=True)\n",
    "                r2=dict(zip(unique, counts))\n",
    "                if len(r2)==0:\n",
    "                    r2.update({0:0}) \n",
    "                max2=max(r2.values())\n",
    "                #sum(dict(zip(unique, counts)).values())\n",
    "                #if i==1:\n",
    "                #print(r2,s,max2)\n",
    "                pmk=max(max1,max2)\n",
    "                #print(pmk)\n",
    "                if pmk>=best_pmk:\n",
    "                    best_attribute=i\n",
    "                    best_split_pt=s\n",
    "                    best_pmk=pmk\n",
    "                    best_r1=r1\n",
    "                    best_r2=r2 \n",
    "                    class_less=list(best_r1.values()).index(max(best_r1.values()))                 \n",
    "                    class_great=list(best_r2.values()).index(max(best_r2.values())) \n",
    "        #print(\"  {} {}  {} {} {} {} {}\".format(best_r1,best_r2,class_less,class_great,best_attribute,best_split_pt,best_pmk))\n",
    "        return (class_less,class_great,best_attribute,best_split_pt)\n",
    "        \n",
    "     \n",
    "    def predict(X_train,y_train,X_test):   \n",
    "        class_less,class_great,best_attribute,best_split_pt=decision_stump_classifier.fit(X_train,y_train) \n",
    "        predict=list(X_test[:,best_attribute]<best_split_pt)\n",
    "        \n",
    "        for i in range(len(predict)):\n",
    "            if predict[i]==True:\n",
    "                predict[i]=class_less\n",
    "            else:\n",
    "                predict[i]=class_great\n",
    "        return np.array(predict) \n",
    "    \n",
    "    def error_rate(y_test):\n",
    "        predict=decision_stump_classifier.predict(X_train,y_train,X_test)\n",
    "        return np.sum(predict==y_test)/len(y_test)\n",
    "                \n",
    "                \n",
    "#decision_stump_classifier.fit(X_train,y_train)  \n",
    "#decision_stump_classifier.predict(X_train,y_train,X_test)  \n",
    "#decision_stump_classifier.error_rate(y_test)"
   ]
  },
  {
   "cell_type": "code",
   "execution_count": 3,
   "metadata": {},
   "outputs": [],
   "source": [
    "iris = load_iris()\n",
    "X_train, X_test, y_train, y_test = train_test_split(iris.data, iris.target, random_state = 0)"
   ]
  },
  {
   "cell_type": "code",
   "execution_count": 4,
   "metadata": {},
   "outputs": [
    {
     "data": {
      "text/plain": [
       "(0, 1, 3, 1.1)"
      ]
     },
     "execution_count": 4,
     "metadata": {},
     "output_type": "execute_result"
    }
   ],
   "source": [
    "decision_stump_classifier.fit(X_train,y_train)  "
   ]
  },
  {
   "cell_type": "code",
   "execution_count": 5,
   "metadata": {},
   "outputs": [
    {
     "data": {
      "text/plain": [
       "array([1, 0, 0, 1, 0, 1, 0, 1, 1, 1, 1, 1, 1, 1, 1, 0, 1, 1, 0, 0, 1, 1,\n",
       "       0, 0, 1, 0, 0, 1, 0, 0, 1, 1, 0, 1, 1, 1, 0, 1])"
      ]
     },
     "execution_count": 5,
     "metadata": {},
     "output_type": "execute_result"
    }
   ],
   "source": [
    "decision_stump_classifier.predict(X_train,y_train,X_test)  "
   ]
  },
  {
   "cell_type": "code",
   "execution_count": 6,
   "metadata": {},
   "outputs": [
    {
     "data": {
      "text/plain": [
       "0.7105263157894737"
      ]
     },
     "execution_count": 6,
     "metadata": {},
     "output_type": "execute_result"
    }
   ],
   "source": [
    "decision_stump_classifier.error_rate(y_test)"
   ]
  },
  {
   "cell_type": "code",
   "execution_count": 9,
   "metadata": {},
   "outputs": [],
   "source": [
    "wine =  load_wine()\n",
    "X_train, X_test, y_train, y_test = train_test_split(wine.data, wine.target, random_state = 0)"
   ]
  },
  {
   "cell_type": "code",
   "execution_count": 10,
   "metadata": {},
   "outputs": [
    {
     "data": {
      "text/plain": [
       "(1, 0, 12, 1546.0)"
      ]
     },
     "execution_count": 10,
     "metadata": {},
     "output_type": "execute_result"
    }
   ],
   "source": [
    "decision_stump_classifier.fit(X_train,y_train)  "
   ]
  },
  {
   "cell_type": "code",
   "execution_count": 11,
   "metadata": {},
   "outputs": [
    {
     "data": {
      "text/plain": [
       "array([1, 1, 1, 1, 1, 1, 1, 1, 1, 1, 1, 1, 1, 1, 1, 1, 1, 0, 1, 1, 1, 1,\n",
       "       1, 1, 1, 1, 1, 1, 1, 1, 1, 1, 1, 1, 1, 1, 1, 1, 1, 1, 1, 1, 1, 1,\n",
       "       1])"
      ]
     },
     "execution_count": 11,
     "metadata": {},
     "output_type": "execute_result"
    }
   ],
   "source": [
    "decision_stump_classifier.predict(X_train,y_train,X_test)  "
   ]
  },
  {
   "cell_type": "code",
   "execution_count": 12,
   "metadata": {},
   "outputs": [
    {
     "data": {
      "text/plain": [
       "0.4888888888888889"
      ]
     },
     "execution_count": 12,
     "metadata": {},
     "output_type": "execute_result"
    }
   ],
   "source": [
    "decision_stump_classifier.error_rate(y_test)"
   ]
  },
  {
   "cell_type": "code",
   "execution_count": 14,
   "metadata": {},
   "outputs": [],
   "source": [
    "digits = load_digits()\n",
    "X_train, X_test, y_train, y_test = train_test_split(iris.data, iris.target, random_state = 0)"
   ]
  },
  {
   "cell_type": "code",
   "execution_count": 15,
   "metadata": {},
   "outputs": [
    {
     "data": {
      "text/plain": [
       "(0, 1, 3, 1.1)"
      ]
     },
     "execution_count": 15,
     "metadata": {},
     "output_type": "execute_result"
    }
   ],
   "source": [
    "decision_stump_classifier.fit(X_train,y_train)  "
   ]
  },
  {
   "cell_type": "code",
   "execution_count": 16,
   "metadata": {},
   "outputs": [
    {
     "data": {
      "text/plain": [
       "array([1, 0, 0, 1, 0, 1, 0, 1, 1, 1, 1, 1, 1, 1, 1, 0, 1, 1, 0, 0, 1, 1,\n",
       "       0, 0, 1, 0, 0, 1, 0, 0, 1, 1, 0, 1, 1, 1, 0, 1])"
      ]
     },
     "execution_count": 16,
     "metadata": {},
     "output_type": "execute_result"
    }
   ],
   "source": [
    "decision_stump_classifier.predict(X_train,y_train,X_test)  "
   ]
  },
  {
   "cell_type": "code",
   "execution_count": 17,
   "metadata": {},
   "outputs": [
    {
     "data": {
      "text/plain": [
       "0.7105263157894737"
      ]
     },
     "execution_count": 17,
     "metadata": {},
     "output_type": "execute_result"
    }
   ],
   "source": [
    "decision_stump_classifier.error_rate(y_test)"
   ]
  },
  {
   "cell_type": "code",
   "execution_count": null,
   "metadata": {},
   "outputs": [],
   "source": []
  }
 ],
 "metadata": {
  "kernelspec": {
   "display_name": "Python 3",
   "language": "python",
   "name": "python3"
  },
  "language_info": {
   "codemirror_mode": {
    "name": "ipython",
    "version": 3
   },
   "file_extension": ".py",
   "mimetype": "text/x-python",
   "name": "python",
   "nbconvert_exporter": "python",
   "pygments_lexer": "ipython3",
   "version": "3.7.6"
  }
 },
 "nbformat": 4,
 "nbformat_minor": 4
}
