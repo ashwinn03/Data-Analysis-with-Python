{
 "cells": [
  {
   "cell_type": "markdown",
   "metadata": {},
   "source": [
    "# importing libraries"
   ]
  },
  {
   "cell_type": "code",
   "execution_count": 2,
   "metadata": {},
   "outputs": [],
   "source": [
    "from sklearn.datasets import load_diabetes\n",
    "from sklearn.model_selection import train_test_split\n",
    "from sklearn.linear_model import Lasso\n",
    "from sklearn.linear_model import LassoCV\n",
    "import numpy as np\n",
    "from sklearn.preprocessing import StandardScaler\n",
    "\n"
   ]
  },
  {
   "cell_type": "code",
   "execution_count": 3,
   "metadata": {},
   "outputs": [],
   "source": [
    "diabetes = load_diabetes()\n",
    "X_train, X_test, y_train, y_test = train_test_split(diabetes.data,\n",
    "diabetes.target, random_state=2506)\n"
   ]
  },
  {
   "cell_type": "markdown",
   "metadata": {},
   "source": [
    "## Lasso"
   ]
  },
  {
   "cell_type": "code",
   "execution_count": 4,
   "metadata": {
    "scrolled": true
   },
   "outputs": [
    {
     "name": "stdout",
     "output_type": "stream",
     "text": [
      "R^2 train =  0.35977425731756085\n",
      "R^2 test =  0.32079824809111557\n",
      "number of features used =  2\n",
      "The features used are ['bmi' 's5']\n"
     ]
    }
   ],
   "source": [
    "lasso = Lasso().fit(X_train,y_train)\n",
    "print(\"R^2 train = \",lasso.score(X_train,y_train))\n",
    "print(\"R^2 test = \",lasso.score(X_test,y_test))\n",
    "print(\"number of features used = \",np.sum(lasso.coef_!= 0))\n",
    "d=np.array(diabetes.feature_names)\n",
    "print(\"The features used are\", d[lasso.coef_!=0])\n"
   ]
  },
  {
   "cell_type": "code",
   "execution_count": 6,
   "metadata": {},
   "outputs": [],
   "source": [
    "scaler = StandardScaler()\n",
    "scaler.fit(X_train)\n",
    "X_train_scaled = scaler.transform(X_train)\n",
    "X_test_scaled = scaler.transform(X_test)"
   ]
  },
  {
   "cell_type": "markdown",
   "metadata": {},
   "source": [
    "## Scaled dataset results"
   ]
  },
  {
   "cell_type": "code",
   "execution_count": 8,
   "metadata": {},
   "outputs": [
    {
     "name": "stdout",
     "output_type": "stream",
     "text": [
      "R^2 train =  0.518543652885116\n",
      "R^2 test =  0.4773660349218095\n",
      "number of features used =  8\n",
      "The features used are ['age' 'sex' 'bmi' 'bp' 's1' 's3' 's4' 's5']\n"
     ]
    }
   ],
   "source": [
    "lasso = Lasso().fit(X_train_scaled,y_train)\n",
    "print(\"R^2 train = \",lasso.score(X_train_scaled,y_train))\n",
    "print(\"R^2 test = \",lasso.score(X_test_scaled,y_test))\n",
    "print(\"number of features used = \",np.sum(lasso.coef_!= 0))\n",
    "\n",
    "print(\"The features used are\",d[lasso.coef_!=0])\n"
   ]
  },
  {
   "cell_type": "code",
   "execution_count": 9,
   "metadata": {},
   "outputs": [
    {
     "data": {
      "image/png": "[encoded data removed]",
      "text/plain": [
       "<Figure size 432x288 with 1 Axes>"
      ]
     },
     "metadata": {},
     "output_type": "display_data"
    }
   ],
   "source": [
    "%matplotlib inline\n",
    "import matplotlib.pyplot as plt\n",
    "score=np.zeros(8)\n",
    "features=np.zeros(8)\n",
    "count=0\n",
    "for i in [10,5,1,0.5,0.1,0.01,0.001,0.001]:\n",
    "#np.logspace(-1, -5, num=100,base=5):\n",
    "    lasso=Lasso(alpha=i,max_iter=10000).fit(X_train_scaled,y_train)\n",
    "    score[count]=lasso.score(X_test_scaled,y_test)\n",
    "    features[count]=np.sum(lasso.coef_!= 0)\n",
    "    count+=1\n",
    "plt.plot(score,features,color=\"darkblue\", alpha=0.8, linewidth=2) \n",
    "plt.ylabel('Non-zero features') \n",
    "plt.xlabel('$R^2$')\n",
    "\n",
    "plt.title(' $R^2$ vs Non-zero features ')\n",
    "plt.grid()\n",
    "\n",
    "\n",
    "    "
   ]
  },
  {
   "cell_type": "markdown",
   "metadata": {},
   "source": [
    "- Since we are handling moderate number of features(=10), it is fine to have a complex model that will not be  too costly. The point on the curve (0.477,8) seems to be optimal as it considered only 8 featureas to train and gives high $R^2$ compared to other scores."
   ]
  },
  {
   "cell_type": "markdown",
   "metadata": {},
   "source": [
    "## cross validation results"
   ]
  },
  {
   "cell_type": "code",
   "execution_count": 10,
   "metadata": {},
   "outputs": [
    {
     "name": "stdout",
     "output_type": "stream",
     "text": [
      "optimal alpha 1\n",
      "R^2 train =  0.5185416330587983\n",
      "R^2 test =  0.47736711807751186\n",
      "number of features used =  8\n"
     ]
    },
    {
     "name": "stderr",
     "output_type": "stream",
     "text": [
      "/home/cim/pgt/mhac062/.local/lib/python3.6/site-packages/sklearn/model_selection/_search.py:814: DeprecationWarning: The default of the `iid` parameter will change from True to False in version 0.22 and will be removed in 0.24. This will change numeric results when test-set sizes are unequal.\n",
      "  DeprecationWarning)\n"
     ]
    }
   ],
   "source": [
    "from sklearn.model_selection import GridSearchCV\n",
    "alpha_finder=GridSearchCV(Lasso(),param_grid={'alpha':[10,5,1,0.5,0.1,0.01,0.001,0.001]},cv=5).fit(X_train_scaled, y_train).best_estimator_\n",
    "lasso = Lasso(alpha=alpha_finder.alpha).fit(X_train_scaled,y_train)\n",
    "print(\"optimal alpha\",alpha_finder.alpha)\n",
    "print(\"R^2 train = \",lasso.score(X_train_scaled,y_train))\n",
    "print(\"R^2 test = \",lasso.score(X_test_scaled,y_test))\n",
    "print(\"number of features used = \",np.sum(lasso.coef_!= 0))"
   ]
  },
  {
   "cell_type": "markdown",
   "metadata": {},
   "source": [
    "# inductive conformal prediction"
   ]
  },
  {
   "cell_type": "code",
   "execution_count": 11,
   "metadata": {},
   "outputs": [],
   "source": [
    "def inductive_conform_pred(X,y,epsilon):\n",
    "    X_train, X_test, y_train, y_test = train_test_split(X,y, random_state=2506)\n",
    "    X_train_proper, X_calibration, y_train_proper, y_calibration = train_test_split(X_train,y_train,test_size=0.299,random_state=2506)\n",
    "    scaler = StandardScaler()\n",
    "    scaler.fit(X_train_proper)\n",
    "    X_train_proper_scaled = scaler.transform(X_train_proper)\n",
    "    X_calibration_scaled = scaler.transform(X_calibration)\n",
    "    X_test_scaled = scaler.transform(X_test)\n",
    "\n",
    "    alpha_finder=GridSearchCV(Lasso(),param_grid={'alpha':[10,5,1,0.5,0.1,0.05,0.001,0.005,0.001]},cv=5).fit(X_train_proper_scaled, y_train_proper).best_estimator_\n",
    "    lasso=Lasso(alpha=alpha_finder.alpha).fit(X_train_proper_scaled, y_train_proper)\n",
    "    pred_calibration = lasso.predict(X_calibration_scaled)\n",
    "    pred_test=lasso.predict(X_test_scaled)\n",
    "    conform_scores=np.zeros(X_calibration_scaled.shape[0])\n",
    "    for i in range(X_calibration_scaled.shape[0]):\n",
    "        conform_scores[i]=abs(y_calibration[i]-pred_calibration[i])\n",
    "    conform_scores=np.sort(conform_scores, axis=None) \n",
    "    k=(1-(epsilon/100))*(X_calibration_scaled.shape[0]+1)\n",
    "    c=conform_scores[int(k)-1]\n",
    "    inter_test=[]\n",
    "    for i in range(X_test.shape[0]):\n",
    "        inter_test.append([pred_test[i]-c,pred_test[i]+c])\n",
    "    test=np.zeros(X_test_scaled.shape[0])\n",
    "    j=0\n",
    "    for i in inter_test:\n",
    "        if y_test[j]>=i[0]:\n",
    "            test[j]=1\n",
    "        else:\n",
    "            test[j]=0\n",
    "        j+=1 \n",
    "            \n",
    "    print(\"interval is \",c) \n",
    "   \n",
    "    print(\"test_error_rate is \",(sum(test==0)/test.shape[0])) \n",
    "    "
   ]
  },
  {
   "cell_type": "markdown",
   "metadata": {},
   "source": [
    "# for significance 95% and 80%"
   ]
  },
  {
   "cell_type": "code",
   "execution_count": 12,
   "metadata": {},
   "outputs": [
    {
     "name": "stdout",
     "output_type": "stream",
     "text": [
      "interval is  106.47706659141119\n",
      "test_error_rate is  0.018018018018018018\n"
     ]
    },
    {
     "name": "stderr",
     "output_type": "stream",
     "text": [
      "/home/cim/pgt/mhac062/.local/lib/python3.6/site-packages/sklearn/model_selection/_search.py:814: DeprecationWarning: The default of the `iid` parameter will change from True to False in version 0.22 and will be removed in 0.24. This will change numeric results when test-set sizes are unequal.\n",
      "  DeprecationWarning)\n"
     ]
    }
   ],
   "source": [
    "inductive_conform_pred(X,y,5)\n",
    "\n",
    "         \n",
    "    "
   ]
  },
  {
   "cell_type": "code",
   "execution_count": 13,
   "metadata": {},
   "outputs": [
    {
     "name": "stdout",
     "output_type": "stream",
     "text": [
      "interval is  73.32442700001351\n",
      "test_error_rate is  0.05405405405405406\n"
     ]
    },
    {
     "name": "stderr",
     "output_type": "stream",
     "text": [
      "/home/cim/pgt/mhac062/.local/lib/python3.6/site-packages/sklearn/model_selection/_search.py:814: DeprecationWarning: The default of the `iid` parameter will change from True to False in version 0.22 and will be removed in 0.24. This will change numeric results when test-set sizes are unequal.\n",
      "  DeprecationWarning)\n"
     ]
    }
   ],
   "source": [
    "inductive_conform_pred(X,y,20)"
   ]
  },
  {
   "cell_type": "code",
   "execution_count": null,
   "metadata": {},
   "outputs": [],
   "source": []
  }
 ],
 "metadata": {
  "kernelspec": {
   "display_name": "Python 3",
   "language": "python",
   "name": "python3"
  },
  "language_info": {
   "codemirror_mode": {
    "name": "ipython",
    "version": 3
   },
   "file_extension": ".py",
   "mimetype": "text/x-python",
   "name": "python",
   "nbconvert_exporter": "python",
   "pygments_lexer": "ipython3",
   "version": "3.6.9"
  }
 },
 "nbformat": 4,
 "nbformat_minor": 2
}
