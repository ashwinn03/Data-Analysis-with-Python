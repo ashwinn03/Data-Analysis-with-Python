{
 "cells": [
  {
   "cell_type": "markdown",
   "metadata": {},
   "source": [
    "## Wine dataset"
   ]
  },
  {
   "cell_type": "code",
   "execution_count": 238,
   "metadata": {},
   "outputs": [],
   "source": [
    "from sklearn.preprocessing import MinMaxScaler\n",
    "from sklearn.preprocessing import StandardScaler\n",
    "from sklearn.preprocessing import RobustScaler\n",
    "from sklearn.preprocessing import Normalizer\n",
    "from sklearn.svm import SVC\n",
    "from sklearn.pipeline import Pipeline\n",
    "from sklearn.pipeline import make_pipeline\n",
    "from sklearn.model_selection import GridSearchCV\n",
    "from sklearn.model_selection import train_test_split\n",
    "import numpy as np"
   ]
  },
  {
   "cell_type": "markdown",
   "metadata": {},
   "source": [
    "### Task1: loading wine dataset"
   ]
  },
  {
   "cell_type": "code",
   "execution_count": 289,
   "metadata": {},
   "outputs": [],
   "source": [
    "\n",
    "from sklearn.datasets import load_wine\n",
    "wine=load_wine()\n"
   ]
  },
  {
   "cell_type": "markdown",
   "metadata": {},
   "source": [
    "### Task2: splitting wine dataset"
   ]
  },
  {
   "cell_type": "code",
   "execution_count": 312,
   "metadata": {},
   "outputs": [],
   "source": [
    "X_train,X_test,y_train,y_test=train_test_split(wine.data,wine.target,random_state=503)"
   ]
  },
  {
   "cell_type": "markdown",
   "metadata": {},
   "source": [
    "###  Task3: Generalization accuracy of SVM using Cross_Val_Score"
   ]
  },
  {
   "cell_type": "code",
   "execution_count": 291,
   "metadata": {},
   "outputs": [
    {
     "name": "stdout",
     "output_type": "stream",
     "text": [
      "[0.4        0.43181818 0.40909091]\n"
     ]
    }
   ],
   "source": [
    "from sklearn.model_selection import cross_val_score\n",
    "svm = SVC(gamma='auto')\n",
    "print(cross_val_score(svm, X_train, y_train,cv=3))"
   ]
  },
  {
   "cell_type": "markdown",
   "metadata": {},
   "source": [
    "### Task4: SVM with default parameters"
   ]
  },
  {
   "cell_type": "code",
   "execution_count": 17,
   "metadata": {},
   "outputs": [
    {
     "name": "stdout",
     "output_type": "stream",
     "text": [
      "Accuracy on test set: 0.4\n"
     ]
    }
   ],
   "source": [
    "svc = SVC(gamma='auto')\n",
    "svc.fit(X_train, y_train)\n",
    "print(\"Accuracy on test set:\", svc.score(X_test, y_test))"
   ]
  },
  {
   "cell_type": "markdown",
   "metadata": {},
   "source": [
    "- The test error rate seems to same as obtained in task 3 and hence we can assume that the training set has good generalization accuracy"
   ]
  },
  {
   "cell_type": "markdown",
   "metadata": {},
   "source": [
    "### Task5: Pipeline creation "
   ]
  },
  {
   "cell_type": "code",
   "execution_count": 6,
   "metadata": {},
   "outputs": [],
   "source": [
    "# creating piplines for various normalizaion techinques\n",
    "pipe = make_pipeline(MinMaxScaler(), SVC())\n",
    "pipe2=make_pipeline(StandardScaler(), SVC())\n",
    "pipe3=make_pipeline(RobustScaler(), SVC())\n",
    "pipe4=make_pipeline(Normalizer(), SVC())\n",
    "    \n",
    "# Implementing CV for all pipleines created with C and gamma parameters\n",
    "param_grid = {'svc__C': [0.01, 0.1, 1, 10, 100],'svc__gamma': [0.001, 0.01, 0.1, 1, 10, 100]}\n",
    "\n",
    "grid = GridSearchCV(pipe, param_grid=param_grid, cv=3)\n",
    "grid2 = GridSearchCV(pipe2, param_grid=param_grid, cv=3)\n",
    "grid3 = GridSearchCV(pipe3, param_grid=param_grid, cv=3)\n",
    "grid4 = GridSearchCV(pipe4, param_grid=param_grid, cv=3)\n",
    "\n"
   ]
  },
  {
   "cell_type": "markdown",
   "metadata": {},
   "source": [
    "### Task6: Fitting gridsearchCV on test set "
   ]
  },
  {
   "cell_type": "code",
   "execution_count": 7,
   "metadata": {},
   "outputs": [
    {
     "name": "stderr",
     "output_type": "stream",
     "text": [
      "/home/cim/pgt/mhac062/.local/lib/python3.6/site-packages/sklearn/model_selection/_search.py:814: DeprecationWarning: The default of the `iid` parameter will change from True to False in version 0.22 and will be removed in 0.24. This will change numeric results when test-set sizes are unequal.\n",
      "  DeprecationWarning)\n",
      "/home/cim/pgt/mhac062/.local/lib/python3.6/site-packages/sklearn/model_selection/_search.py:814: DeprecationWarning: The default of the `iid` parameter will change from True to False in version 0.22 and will be removed in 0.24. This will change numeric results when test-set sizes are unequal.\n",
      "  DeprecationWarning)\n",
      "/home/cim/pgt/mhac062/.local/lib/python3.6/site-packages/sklearn/model_selection/_search.py:814: DeprecationWarning: The default of the `iid` parameter will change from True to False in version 0.22 and will be removed in 0.24. This will change numeric results when test-set sizes are unequal.\n",
      "  DeprecationWarning)\n"
     ]
    },
    {
     "name": "stdout",
     "output_type": "stream",
     "text": [
      "pipeline on wine dataset and various test set scores for different normalizaion techniques: \n",
      "\n",
      "MinMaxScaler: 0.9777777777777777\n",
      "StandardScaler: 0.9777777777777777\n",
      "RobustScaler 0.9555555555555556\n",
      "Normalizer 0.8888888888888888\n"
     ]
    },
    {
     "name": "stderr",
     "output_type": "stream",
     "text": [
      "/home/cim/pgt/mhac062/.local/lib/python3.6/site-packages/sklearn/model_selection/_search.py:814: DeprecationWarning: The default of the `iid` parameter will change from True to False in version 0.22 and will be removed in 0.24. This will change numeric results when test-set sizes are unequal.\n",
      "  DeprecationWarning)\n"
     ]
    }
   ],
   "source": [
    "\n",
    "grid.fit(X_train, y_train)\n",
    "grid2.fit(X_train, y_train)\n",
    "grid3.fit(X_train, y_train)\n",
    "grid4.fit(X_train, y_train)\n",
    "\n",
    "print(\"pipeline on wine dataset and various test set scores for different normalizaion techniques: \\n\\nMinMaxScaler:\", grid.score(X_test, y_test))\n",
    "print(\"StandardScaler:\", grid2.score(X_test, y_test))\n",
    "print(\"RobustScaler\", grid3.score(X_test, y_test))\n",
    "print(\"Normalizer\", grid4.score(X_test, y_test))\n"
   ]
  },
  {
   "cell_type": "markdown",
   "metadata": {},
   "source": [
    "## USPS dataset"
   ]
  },
  {
   "cell_type": "markdown",
   "metadata": {},
   "source": [
    "### Task1: loading USPS dataset"
   ]
  },
  {
   "cell_type": "code",
   "execution_count": 292,
   "metadata": {},
   "outputs": [],
   "source": [
    "X=np.genfromtxt(\"//home/cim/pgt/mhac062/Documents/ML/datasets/zip.train\",delimiter=\"\",usecols=np.arange(0,257))\n",
    "y=np.genfromtxt(\"//home/cim/pgt/mhac062/Documents/ML/datasets/zip.test\",delimiter=\"\",usecols=np.arange(0,257))\n",
    "\n",
    "USPS_data=np.concatenate((X[:,1:257],y[:,1:257]))\n",
    "USPS_target=np.concatenate((X[:,0],y[:,0]))\n"
   ]
  },
  {
   "cell_type": "markdown",
   "metadata": {},
   "source": [
    "### Task2: splitting USPS dataset"
   ]
  },
  {
   "cell_type": "code",
   "execution_count": 293,
   "metadata": {},
   "outputs": [],
   "source": [
    "X_train,X_test,y_train,y_test=train_test_split(USPS_data,USPS_target,random_state=503)"
   ]
  },
  {
   "cell_type": "markdown",
   "metadata": {},
   "source": [
    "###  Task3: Generalization accuracy of SVM using Cross_Val_Score"
   ]
  },
  {
   "cell_type": "code",
   "execution_count": 294,
   "metadata": {},
   "outputs": [
    {
     "name": "stdout",
     "output_type": "stream",
     "text": [
      "[0.9647615  0.96084337 0.96597761]\n"
     ]
    }
   ],
   "source": [
    "from sklearn.model_selection import cross_val_score\n",
    "svm = SVC(gamma='auto')\n",
    "print(cross_val_score(svm, X_train, y_train,cv=3))"
   ]
  },
  {
   "cell_type": "markdown",
   "metadata": {},
   "source": [
    "### Task4: SVM with default parameters"
   ]
  },
  {
   "cell_type": "code",
   "execution_count": 235,
   "metadata": {},
   "outputs": [
    {
     "name": "stdout",
     "output_type": "stream",
     "text": [
      "Accuracy on test set: 0.967741935483871\n"
     ]
    }
   ],
   "source": [
    "svc = SVC(gamma='auto')\n",
    "svc.fit(X_train, y_train)\n",
    "print(\"Accuracy on test set:\", svc.score(X_test, y_test))"
   ]
  },
  {
   "cell_type": "markdown",
   "metadata": {},
   "source": [
    "- The test error rate seems to aproximately same as obtained in task 3 and hence we can assume that the training set has good generalization accuracy"
   ]
  },
  {
   "cell_type": "markdown",
   "metadata": {},
   "source": [
    "### Task5: Pipeline creation "
   ]
  },
  {
   "cell_type": "code",
   "execution_count": 12,
   "metadata": {},
   "outputs": [],
   "source": [
    "# creating piplines for various normalizaion techinques\n",
    "pipe = make_pipeline(MinMaxScaler(), SVC())\n",
    "pipe2=make_pipeline(StandardScaler(), SVC())\n",
    "pipe3=make_pipeline(RobustScaler(), SVC())\n",
    "pipe4=make_pipeline(Normalizer(), SVC())\n",
    "    \n",
    "# Implementing CV for all pipleines created with C and gamma parameters\n",
    "param_grid = {'svc__C': [0.01, 0.1, 1, 10, 100],'svc__gamma': [0.001, 0.01, 0.1, 1, 10, 100]}\n",
    "\n",
    "grid = GridSearchCV(pipe, param_grid=param_grid, cv=3)\n",
    "grid2 = GridSearchCV(pipe2, param_grid=param_grid, cv=3)\n",
    "grid3 = GridSearchCV(pipe3, param_grid=param_grid, cv=3)\n",
    "grid4 = GridSearchCV(pipe4, param_grid=param_grid, cv=3)"
   ]
  },
  {
   "cell_type": "markdown",
   "metadata": {},
   "source": [
    "### Task6: Fitting gridsearchCV on test set "
   ]
  },
  {
   "cell_type": "code",
   "execution_count": 13,
   "metadata": {},
   "outputs": [
    {
     "name": "stdout",
     "output_type": "stream",
     "text": [
      "pipeline on USPS dataset and various test set scores for different normalizaion techniques: \n",
      "\n",
      "MinMaxScaler: 0.9703225806451613\n",
      "StandardScaler: 0.967741935483871\n",
      "RobustScaler 0.9281720430107527\n",
      "Normalizer 0.9763440860215054\n"
     ]
    }
   ],
   "source": [
    "grid.fit(X_train, y_train)\n",
    "grid2.fit(X_train, y_train)\n",
    "grid3.fit(X_train, y_train)\n",
    "grid4.fit(X_train, y_train)\n",
    "\n",
    "print(\"pipeline on USPS dataset and various test set scores for different normalizaion techniques: \\n\\nMinMaxScaler:\", grid.score(X_test, y_test))\n",
    "print(\"StandardScaler:\", grid2.score(X_test, y_test))\n",
    "print(\"RobustScaler\", grid3.score(X_test, y_test))\n",
    "print(\"Normalizer\", grid4.score(X_test, y_test))\n"
   ]
  },
  {
   "cell_type": "markdown",
   "metadata": {},
   "source": [
    "## Task 7: Cross-conformal Prediction"
   ]
  },
  {
   "cell_type": "code",
   "execution_count": 277,
   "metadata": {},
   "outputs": [],
   "source": [
    "def p_value_calc(X_train,X_test,y_train,y_test,k):\n",
    "    from sklearn.model_selection import KFold\n",
    "    kf = KFold(shuffle=True, random_state=0)\n",
    "    KFold(n_splits=k, random_state=0, shuffle=True)\n",
    "    pipe=make_pipeline(MinMaxScaler(), SVC())\n",
    "    param_grid = {'svc__C': [0.01, 0.1, 1, 10, 100],'svc__gamma': [0.001, 0.01, 0.1, 1, 10, 100]}\n",
    "    total=0\n",
    "    grid = GridSearchCV(pipe, param_grid=param_grid, cv=3)\n",
    "    for rest_index, fold_index in kf.split(X_train):\n",
    "\n",
    "        X_rest, X_fold = X_train[rest_index], X_train[fold_index]\n",
    "        y_rest, y_fold = y_train[rest_index], y_train[fold_index]\n",
    "        grid.fit(X_rest,y_rest)\n",
    "        n=X_fold.shape[0]\n",
    "        #decision function on complete test set to calculate the conformity scores\n",
    "        CF=grid.decision_function(np.concatenate((X_fold,X_test)))\n",
    "        rank=np.ones((X_test.shape[0],CF.shape[1]))\n",
    "        #finding the rank using argsort\n",
    "        for j in range(CF.shape[1]):   \n",
    "\n",
    "            for i in range(X_test.shape[0]):\n",
    "                x=np.concatenate((CF[:n,j],CF[(n-1)+i,j]),axis=None)\n",
    "                np.argsort(x)\n",
    "                c=np.where(np.argsort(x)==(x.shape[0]-1))\n",
    "                p=c[0]\n",
    "                rank[i,j]=p[0]\n",
    "\n",
    "        total=total+rank\n",
    "\n",
    "    return (total+1)/(X_train.shape[0]+1)\n",
    "\n"
   ]
  },
  {
   "cell_type": "markdown",
   "metadata": {},
   "source": [
    "### calculation of average false p-value"
   ]
  },
  {
   "cell_type": "code",
   "execution_count": 278,
   "metadata": {},
   "outputs": [],
   "source": [
    "def average_false_pvalue(X_train,X_test,y_train,y_test,k):\n",
    "    \n",
    "    labels=np.unique(y_train)\n",
    "    p_value_array1=p_value_calc(X_train,X_test,y_train,y_test,k)\n",
    "    sum=0\n",
    "    for i in range(p_value_array1.shape[0]):\n",
    "        for j in range(labels.shape[0]):\n",
    "            # summation of false_pvalues \n",
    "            if labels[j]!=y_test[i]:\n",
    "                sum+=p_value_array1[i,j]\n",
    "    # average of false_p_value\n",
    "    \n",
    "    \n",
    "    return (sum/(X_test.shape[0]*(labels.shape[0]-1)))   \n"
   ]
  },
  {
   "cell_type": "markdown",
   "metadata": {},
   "source": [
    "### Calibration plot"
   ]
  },
  {
   "cell_type": "code",
   "execution_count": 310,
   "metadata": {},
   "outputs": [],
   "source": [
    "def calibration_curve(p):\n",
    "    %matplotlib inline\n",
    "    import matplotlib.pyplot as plt\n",
    "    n_test=X_test.shape[0]\n",
    "    eps = np.zeros(100) # a range of significance levels\n",
    "    err = np.zeros(100) # the corresponding error rates\n",
    "    for k in range(100):\n",
    "        eps[k] = k/100\n",
    "    # considering eps = k%\n",
    "        err[k] = 0\n",
    "    # initializing the error rate\n",
    "        for j in range(n_test):\n",
    "            if (p[j,int(y_test[j])] <= eps[k]): # if we made an error\n",
    "                err[k] = err[k] + 1\n",
    "    # count this error\n",
    "        err[k] = err[k] / n_test # number of errors -> error rate\n",
    "    plt.plot(eps,err)\n",
    " "
   ]
  },
  {
   "cell_type": "markdown",
   "metadata": {},
   "source": [
    "## Average false P-value and calibration plot for WINE dataset"
   ]
  },
  {
   "cell_type": "code",
   "execution_count": 313,
   "metadata": {},
   "outputs": [
    {
     "name": "stderr",
     "output_type": "stream",
     "text": [
      "/home/cim/pgt/mhac062/.local/lib/python3.6/site-packages/sklearn/model_selection/_split.py:431: FutureWarning: The default value of n_split will change from 3 to 5 in version 0.22. Specify it explicitly to silence this warning.\n",
      "  warnings.warn(NSPLIT_WARNING, FutureWarning)\n",
      "/home/cim/pgt/mhac062/.local/lib/python3.6/site-packages/sklearn/model_selection/_search.py:814: DeprecationWarning: The default of the `iid` parameter will change from True to False in version 0.22 and will be removed in 0.24. This will change numeric results when test-set sizes are unequal.\n",
      "  DeprecationWarning)\n",
      "/home/cim/pgt/mhac062/.local/lib/python3.6/site-packages/sklearn/model_selection/_search.py:814: DeprecationWarning: The default of the `iid` parameter will change from True to False in version 0.22 and will be removed in 0.24. This will change numeric results when test-set sizes are unequal.\n",
      "  DeprecationWarning)\n",
      "/home/cim/pgt/mhac062/.local/lib/python3.6/site-packages/sklearn/model_selection/_search.py:814: DeprecationWarning: The default of the `iid` parameter will change from True to False in version 0.22 and will be removed in 0.24. This will change numeric results when test-set sizes are unequal.\n",
      "  DeprecationWarning)\n",
      "/home/cim/pgt/mhac062/.local/lib/python3.6/site-packages/sklearn/model_selection/_split.py:431: FutureWarning: The default value of n_split will change from 3 to 5 in version 0.22. Specify it explicitly to silence this warning.\n",
      "  warnings.warn(NSPLIT_WARNING, FutureWarning)\n",
      "/home/cim/pgt/mhac062/.local/lib/python3.6/site-packages/sklearn/model_selection/_search.py:814: DeprecationWarning: The default of the `iid` parameter will change from True to False in version 0.22 and will be removed in 0.24. This will change numeric results when test-set sizes are unequal.\n",
      "  DeprecationWarning)\n",
      "/home/cim/pgt/mhac062/.local/lib/python3.6/site-packages/sklearn/model_selection/_search.py:814: DeprecationWarning: The default of the `iid` parameter will change from True to False in version 0.22 and will be removed in 0.24. This will change numeric results when test-set sizes are unequal.\n",
      "  DeprecationWarning)\n",
      "/home/cim/pgt/mhac062/.local/lib/python3.6/site-packages/sklearn/model_selection/_search.py:814: DeprecationWarning: The default of the `iid` parameter will change from True to False in version 0.22 and will be removed in 0.24. This will change numeric results when test-set sizes are unequal.\n",
      "  DeprecationWarning)\n"
     ]
    },
    {
     "name": "stdout",
     "output_type": "stream",
     "text": [
      "Average false P- value:  0.5095356550580433\n"
     ]
    },
    {
     "data": {
      "image/png": "[encoded data removed]",
      "text/plain": [
       "<Figure size 432x288 with 1 Axes>"
      ]
     },
     "metadata": {},
     "output_type": "display_data"
    }
   ],
   "source": [
    "p1=average_false_pvalue(X_train,X_test,y_train,y_test,5)\n",
    "p=p_value_calc(X_train,X_test,y_train,y_test,5)\n",
    "print('Average false P- value: ',p1)\n",
    "calibration_curve(p)"
   ]
  },
  {
   "cell_type": "markdown",
   "metadata": {},
   "source": [
    "## Average false P-value and calibration plot for USPS dataset"
   ]
  },
  {
   "cell_type": "code",
   "execution_count": 314,
   "metadata": {},
   "outputs": [
    {
     "name": "stdout",
     "output_type": "stream",
     "text": [
      "Average false P- value:  0.50011153\n"
     ]
    }
   ],
   "source": [
    "p1=average_false_pvalue(X_train,X_test,y_train,y_test,5)\n",
    "p=p_value_calc(X_train,X_test,y_train,y_test,5)\n",
    "print('Average false P- value: ',p1)\n"
   ]
  },
  {
   "cell_type": "code",
   "execution_count": 309,
   "metadata": {},
   "outputs": [
    {
     "data": {
      "text/plain": [
       "[<matplotlib.lines.Line2D at 0x7f7a49d8add8>]"
      ]
     },
     "execution_count": 309,
     "metadata": {},
     "output_type": "execute_result"
    },
    {
     "data": {
      "image/png": "[encoded data removed]",
      "text/plain": [
       "<Figure size 432x288 with 1 Axes>"
      ]
     },
     "metadata": {},
     "output_type": "display_data"
    }
   ],
   "source": [
    "calibration_curve(p)"
   ]
  },
  {
   "cell_type": "code",
   "execution_count": null,
   "metadata": {},
   "outputs": [],
   "source": [
    "\n"
   ]
  },
  {
   "cell_type": "code",
   "execution_count": null,
   "metadata": {},
   "outputs": [],
   "source": []
  }
 ],
 "metadata": {
  "kernelspec": {
   "display_name": "Python 3",
   "language": "python",
   "name": "python3"
  },
  "language_info": {
   "codemirror_mode": {
    "name": "ipython",
    "version": 3
   },
   "file_extension": ".py",
   "mimetype": "text/x-python",
   "name": "python",
   "nbconvert_exporter": "python",
   "pygments_lexer": "ipython3",
   "version": "3.6.9"
  }
 },
 "nbformat": 4,
 "nbformat_minor": 2
}
