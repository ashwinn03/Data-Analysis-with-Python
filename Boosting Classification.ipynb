{
 "cells": [
  {
   "cell_type": "markdown",
   "metadata": {},
   "source": [
    "## importing libraries"
   ]
  },
  {
   "cell_type": "code",
   "execution_count": 1,
   "metadata": {},
   "outputs": [
    {
     "data": {
      "text/plain": [
       "'C:\\\\Users\\\\ashwi\\\\Downloads'"
      ]
     },
     "execution_count": 1,
     "metadata": {},
     "output_type": "execute_result"
    }
   ],
   "source": [
    "\n",
    "import numpy as np\n",
    "import pandas as pd\n",
    "import os\n",
    "import math\n",
    "import timeit\n",
    "from sklearn.model_selection import train_test_split\n",
    "from sklearn.datasets import load_iris\n",
    "from sklearn.datasets import load_wine\n",
    "from sklearn.datasets import load_digits\n",
    "import random\n",
    "os.getcwd()"
   ]
  },
  {
   "cell_type": "markdown",
   "metadata": {},
   "source": [
    "## Dataset"
   ]
  },
  {
   "cell_type": "code",
   "execution_count": 2,
   "metadata": {},
   "outputs": [],
   "source": [
    "iris = load_iris()\n",
    "X_train, X_test, y_train, y_test = train_test_split(iris.data, iris.target, random_state = 0)"
   ]
  },
  {
   "cell_type": "markdown",
   "metadata": {},
   "source": [
    "B = 10"
   ]
  },
  {
   "cell_type": "markdown",
   "metadata": {},
   "source": [
    "## Boosting Classification\n"
   ]
  },
  {
   "cell_type": "code",
   "execution_count": 8,
   "metadata": {},
   "outputs": [
    {
     "name": "stderr",
     "output_type": "stream",
     "text": [
      "C:\\ProgramData\\Anaconda3\\lib\\site-packages\\ipykernel_launcher.py:24: RuntimeWarning: invalid value encountered in long_scalars\n",
      "C:\\ProgramData\\Anaconda3\\lib\\site-packages\\ipykernel_launcher.py:25: RuntimeWarning: invalid value encountered in long_scalars\n"
     ]
    },
    {
     "name": "stdout",
     "output_type": "stream",
     "text": [
      "tree 0 fit_Time 0.15405190000001312: \n",
      "tree 1 fit_Time 0.14210610000009183: \n",
      "tree 2 fit_Time 0.13857959999995728: \n",
      "tree 3 fit_Time 0.13950070000009873: \n",
      "tree 4 fit_Time 0.13938770000004297: \n",
      "tree 5 fit_Time 0.13801349999994272: \n",
      "tree 6 fit_Time 0.1386173000000781: \n",
      "tree 7 fit_Time 0.13956659999985277: \n",
      "tree 8 fit_Time 0.14295739999988655: \n",
      "tree 9 fit_Time 0.1604194000001371: \n",
      "Training RSS is  51.4041666666667\n",
      "test RSS is  51.2645614035088\n"
     ]
    }
   ],
   "source": [
    "\n",
    "import timeit\n",
    "\n",
    "first=np.ceil(np.min(X_train,axis=0)*10)*0.1\n",
    "last=np.ceil(np.max(X_train,axis=0)*10)*0.1\n",
    "\n",
    "\n",
    "B=10\n",
    "eta=1\n",
    "#storing  every decision stump result in a numpy array\n",
    "DB=np.ones((B,4))\n",
    "y_less=0\n",
    "y_great=0\n",
    "res=y_train\n",
    "for b in range(B):\n",
    "    start = timeit.default_timer()\n",
    "    best_attribute=0\n",
    "    best_split_pt=0\n",
    "    best_RSS=math.inf\n",
    "    best_y_less=0\n",
    "    best_y_great=0\n",
    "    for i in range(X_train.shape[1]):\n",
    "        for s in np.arange(first[i],last[i],0.01):\n",
    "            RSS=0\n",
    "            y_less=np.nan_to_num(np.sum(res[X_train[:,i]<s])/np.sum(X_train[:,i]<s))\n",
    "            y_great=np.nan_to_num(np.sum(res[X_train[:,i]>=s])/np.sum(X_train[:,i]>=s))\n",
    "            RSS=np.sum((res[X_train[:,i]<s]-y_less)**2)+np.sum((res[X_train[:,i]>=s]-y_great)**2)\n",
    "            #if i==9:\n",
    "                #print(\"{} {} {} {}\".format(s,y_less,y_great,RSS))\n",
    "            if RSS<best_RSS:\n",
    "                best_attribute=i\n",
    "                best_split_pt=s\n",
    "                best_RSS=RSS\n",
    "                best_y_less=y_less\n",
    "                best_y_great=y_great\n",
    "    DB[b,0]=best_attribute\n",
    "    DB[b,1]=best_split_pt\n",
    "    DB[b,2]=best_y_less\n",
    "    DB[b,3]=best_y_great\n",
    "    res[X_train[:,i]<s]=res[X_train[:,i]<s]-eta*best_y_less\n",
    "    res[X_train[:,i]>=s]=res[X_train[:,i]>=s]-eta*best_y_great\n",
    "    stop = timeit.default_timer()\n",
    "    print('tree {} fit_Time {}: '.format(b,stop - start))\n",
    "    \n",
    "# training RSS \n",
    "train_RSS=0\n",
    "for i in range(X_train.shape[0]):\n",
    "    prediction= 0   # DS's prediction for training observation i\n",
    "    for b in range(B):\n",
    "        if (X_train[i,int(DB[b,0])]<DB[b,1]):\n",
    "            prediction=prediction + eta*DB[b,2]\n",
    "        else:\n",
    "            prediction=prediction + eta*DB[b,3]\n",
    "    train_RSS=train_RSS + (prediction - y_train[i])**2   \n",
    "print(\"Training RSS is \", train_RSS/X_train.shape[0])\n",
    "\n",
    "# test RSS \n",
    "test_RSS=0\n",
    "for i in range(X_test.shape[0]):\n",
    "    prediction= 0   # DS's prediction for training observation i\n",
    "    for b in range(B):\n",
    "        if (X_test[i,int(DB[b,0])]<DB[b,1]):\n",
    "            prediction=prediction + eta*DB[b,2]\n",
    "        else:\n",
    "            prediction=prediction + eta*DB[b,3]\n",
    "    test_RSS=test_RSS + (prediction - y_test[i])**2   \n",
    "print(\"test RSS is \", test_RSS/X_test.shape[0])"
   ]
  },
  {
   "cell_type": "markdown",
   "metadata": {},
   "source": [
    "B = 50"
   ]
  },
  {
   "cell_type": "markdown",
   "metadata": {},
   "source": [
    "B = 100"
   ]
  },
  {
   "cell_type": "code",
   "execution_count": null,
   "metadata": {},
   "outputs": [],
   "source": []
  }
 ],
 "metadata": {
  "kernelspec": {
   "display_name": "Python 3",
   "language": "python",
   "name": "python3"
  },
  "language_info": {
   "codemirror_mode": {
    "name": "ipython",
    "version": 3
   },
   "file_extension": ".py",
   "mimetype": "text/x-python",
   "name": "python",
   "nbconvert_exporter": "python",
   "pygments_lexer": "ipython3",
   "version": "3.7.6"
  }
 },
 "nbformat": 4,
 "nbformat_minor": 4
}
