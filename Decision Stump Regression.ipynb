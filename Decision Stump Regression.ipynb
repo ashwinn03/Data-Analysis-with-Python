{
 "cells": [
  {
   "cell_type": "markdown",
   "metadata": {},
   "source": [
    "## importing libraries"
   ]
  },
  {
   "cell_type": "code",
   "execution_count": 1,
   "metadata": {},
   "outputs": [
    {
     "data": {
      "text/plain": [
       "'C:\\\\Users\\\\ashwi\\\\Downloads'"
      ]
     },
     "execution_count": 1,
     "metadata": {},
     "output_type": "execute_result"
    }
   ],
   "source": [
    "import numpy as np\n",
    "import pandas as pd\n",
    "import os\n",
    "import math\n",
    "import timeit\n",
    "from sklearn.model_selection import train_test_split\n",
    "from sklearn.datasets import load_boston\n",
    "from sklearn.datasets import load_diabetes\n",
    "import random\n",
    "os.getcwd()"
   ]
  },
  {
   "cell_type": "markdown",
   "metadata": {},
   "source": [
    "## Dataset"
   ]
  },
  {
   "cell_type": "code",
   "execution_count": 4,
   "metadata": {},
   "outputs": [],
   "source": [
    "boston = load_boston()\n",
    "X_train, X_test, y_train, y_test = train_test_split(boston.data, boston.target, random_state = 0)"
   ]
  },
  {
   "cell_type": "markdown",
   "metadata": {},
   "source": [
    "## Decision Stump Regression"
   ]
  },
  {
   "cell_type": "code",
   "execution_count": 2,
   "metadata": {},
   "outputs": [],
   "source": [
    "class decision_stump_regressor:\n",
    "    \n",
    "    def fit(X_train,y_train):\n",
    "        import timeit\n",
    "        first=np.ceil(np.min(X_train,axis=0)*10)*0.1\n",
    "        last=np.ceil(np.max(X_train,axis=0)*10)*0.1\n",
    "\n",
    "        best_attribute=0\n",
    "        best_split_pt=0\n",
    "        best_RSS=math.inf\n",
    "        best_y_less=0\n",
    "        best_y_great=0\n",
    "        y_less=0\n",
    "        y_great=0\n",
    "        \n",
    "\n",
    "        start = timeit.default_timer()\n",
    "        for i in range(X_train.shape[1]):\n",
    "            for s in np.arange(first[i],last[i],0.01):\n",
    "                RSS=0\n",
    "                y_less=np.nan_to_num(np.sum(y_train[X_train[:,i]<s])/np.sum(X_train[:,i]<s))\n",
    "                y_great=np.nan_to_num(np.sum(y_train[X_train[:,i]>=s])/np.sum(X_train[:,i]>=s))\n",
    "                RSS=np.sum((y_train[X_train[:,i]<s]-y_less)**2)+np.sum((y_train[X_train[:,i]>=s]-y_great)**2)\n",
    "                #if i==9:\n",
    "                    #print(\"{} {} {} {}\".format(s,y_less,y_great,RSS))\n",
    "                if RSS<best_RSS:\n",
    "                    best_attribute=i\n",
    "                    best_split_pt=s\n",
    "                    best_RSS=RSS\n",
    "                    best_y_less=y_less\n",
    "                    best_y_great=y_great\n",
    "            #print(\"{} {}  {}  {}  {}  {}\".format(i,data_numpy.feature_names[best_attribute],best_split_pt,best_RSS,best_y_less,best_y_great))     \n",
    "            #print(\"{} {}  {}  {}  {}\".format(i,best_split_pt,best_RSS,best_y_less,best_y_great)) \n",
    "        stop = timeit.default_timer()\n",
    "        print('fit_Time: ', stop - start) \n",
    "        return (best_attribute,best_split_pt,best_y_less,best_y_great)\n",
    "    def predict(X_train,y_train,X_test):\n",
    "        import timeit\n",
    "        best_attribute,best_split_pt,best_y_less,best_y_great=decision_stump_regressor.fit(X_train,y_train) \n",
    "        start = timeit.default_timer()\n",
    "        #print(decision_stump_regressor.fit(X_train,y_train) )\n",
    "        predict=list(X_test[:,best_attribute]<best_split_pt)\n",
    "        for i in range(len(predict)):\n",
    "            if predict[i]==True:\n",
    "                predict[i]=best_y_less\n",
    "            else:\n",
    "                predict[i]=best_y_great\n",
    "        stop = timeit.default_timer()\n",
    "        print('predicted_Time: ', stop - start) \n",
    "        return np.array(predict)    \n",
    "    def MSE(X_train,y_train,X_test,y_test):\n",
    "        best_attribute,best_split_pt,best_y_less,best_y_great=decision_stump_regressor.fit(X_train,y_train) \n",
    "        Test_RSS=np.sum((y_test[X_test[:,best_attribute]<best_split_pt]-best_y_less)**2)+np.sum((y_test[X_test[:,best_attribute]>=best_split_pt]-best_y_great)**2)\n",
    "        return Test_RSS/X_test.shape[0]\n",
    "    \n",
    "#decision_stump_regressor.fit(X_train,y_train)\n",
    "#decision_stump_regressor.predict(X_train,y_train,X_test)  \n",
    "#decision_stump_regressor.MSE(X_train,y_train,X_test,y_test)    "
   ]
  },
  {
   "cell_type": "code",
   "execution_count": 5,
   "metadata": {},
   "outputs": [
    {
     "name": "stderr",
     "output_type": "stream",
     "text": [
      "C:\\ProgramData\\Anaconda3\\lib\\site-packages\\ipykernel_launcher.py:22: RuntimeWarning: invalid value encountered in double_scalars\n",
      "C:\\ProgramData\\Anaconda3\\lib\\site-packages\\ipykernel_launcher.py:21: RuntimeWarning: invalid value encountered in double_scalars\n"
     ]
    },
    {
     "name": "stdout",
     "output_type": "stream",
     "text": [
      "fit_Time:  14.306998499999992\n"
     ]
    },
    {
     "data": {
      "text/plain": [
       "(12, 8.100000000000007, 31.158518518518516, 17.87827868852459)"
      ]
     },
     "execution_count": 5,
     "metadata": {},
     "output_type": "execute_result"
    }
   ],
   "source": [
    "decision_stump_regressor.fit(X_train,y_train)"
   ]
  },
  {
   "cell_type": "code",
   "execution_count": 6,
   "metadata": {},
   "outputs": [
    {
     "name": "stderr",
     "output_type": "stream",
     "text": [
      "C:\\ProgramData\\Anaconda3\\lib\\site-packages\\ipykernel_launcher.py:22: RuntimeWarning: invalid value encountered in double_scalars\n",
      "C:\\ProgramData\\Anaconda3\\lib\\site-packages\\ipykernel_launcher.py:21: RuntimeWarning: invalid value encountered in double_scalars\n"
     ]
    },
    {
     "name": "stdout",
     "output_type": "stream",
     "text": [
      "fit_Time:  14.054641599999997\n",
      "predicted_Time:  0.0001679999999737447\n"
     ]
    },
    {
     "data": {
      "text/plain": [
       "array([31.15851852, 17.87827869, 17.87827869, 17.87827869, 17.87827869,\n",
       "       17.87827869, 17.87827869, 17.87827869, 17.87827869, 17.87827869,\n",
       "       17.87827869, 17.87827869, 17.87827869, 17.87827869, 31.15851852,\n",
       "       31.15851852, 17.87827869, 31.15851852, 31.15851852, 17.87827869,\n",
       "       31.15851852, 17.87827869, 17.87827869, 31.15851852, 17.87827869,\n",
       "       17.87827869, 17.87827869, 17.87827869, 31.15851852, 17.87827869,\n",
       "       17.87827869, 17.87827869, 17.87827869, 17.87827869, 17.87827869,\n",
       "       17.87827869, 17.87827869, 17.87827869, 17.87827869, 17.87827869,\n",
       "       17.87827869, 17.87827869, 17.87827869, 17.87827869, 17.87827869,\n",
       "       17.87827869, 17.87827869, 17.87827869, 17.87827869, 17.87827869,\n",
       "       17.87827869, 17.87827869, 17.87827869, 31.15851852, 17.87827869,\n",
       "       17.87827869, 17.87827869, 17.87827869, 17.87827869, 17.87827869,\n",
       "       31.15851852, 17.87827869, 31.15851852, 31.15851852, 17.87827869,\n",
       "       31.15851852, 17.87827869, 17.87827869, 17.87827869, 17.87827869,\n",
       "       17.87827869, 17.87827869, 31.15851852, 31.15851852, 31.15851852,\n",
       "       17.87827869, 31.15851852, 17.87827869, 17.87827869, 17.87827869,\n",
       "       31.15851852, 17.87827869, 17.87827869, 31.15851852, 31.15851852,\n",
       "       31.15851852, 17.87827869, 17.87827869, 31.15851852, 17.87827869,\n",
       "       17.87827869, 17.87827869, 31.15851852, 31.15851852, 31.15851852,\n",
       "       17.87827869, 17.87827869, 31.15851852, 17.87827869, 17.87827869,\n",
       "       17.87827869, 17.87827869, 17.87827869, 17.87827869, 17.87827869,\n",
       "       17.87827869, 17.87827869, 17.87827869, 17.87827869, 17.87827869,\n",
       "       31.15851852, 17.87827869, 17.87827869, 17.87827869, 17.87827869,\n",
       "       17.87827869, 17.87827869, 17.87827869, 17.87827869, 31.15851852,\n",
       "       31.15851852, 17.87827869, 17.87827869, 17.87827869, 17.87827869,\n",
       "       17.87827869, 31.15851852])"
      ]
     },
     "execution_count": 6,
     "metadata": {},
     "output_type": "execute_result"
    }
   ],
   "source": [
    "decision_stump_regressor.predict(X_train,y_train,X_test)  "
   ]
  },
  {
   "cell_type": "code",
   "execution_count": 7,
   "metadata": {},
   "outputs": [
    {
     "name": "stderr",
     "output_type": "stream",
     "text": [
      "C:\\ProgramData\\Anaconda3\\lib\\site-packages\\ipykernel_launcher.py:22: RuntimeWarning: invalid value encountered in double_scalars\n",
      "C:\\ProgramData\\Anaconda3\\lib\\site-packages\\ipykernel_launcher.py:21: RuntimeWarning: invalid value encountered in double_scalars\n"
     ]
    },
    {
     "name": "stdout",
     "output_type": "stream",
     "text": [
      "fit_Time:  14.301442999999978\n"
     ]
    },
    {
     "data": {
      "text/plain": [
       "58.27672228770273"
      ]
     },
     "execution_count": 7,
     "metadata": {},
     "output_type": "execute_result"
    }
   ],
   "source": [
    "decision_stump_regressor.MSE(X_train,y_train,X_test,y_test)    "
   ]
  },
  {
   "cell_type": "code",
   "execution_count": 8,
   "metadata": {},
   "outputs": [],
   "source": [
    "diabetes = load_diabetes()\n",
    "X_train, X_test, y_train, y_test = train_test_split(diabetes.data, diabetes.target, random_state = 0)"
   ]
  },
  {
   "cell_type": "code",
   "execution_count": 10,
   "metadata": {},
   "outputs": [
    {
     "name": "stdout",
     "output_type": "stream",
     "text": [
      "fit_Time:  0.04007820000015272\n"
     ]
    },
    {
     "name": "stderr",
     "output_type": "stream",
     "text": [
      "C:\\ProgramData\\Anaconda3\\lib\\site-packages\\ipykernel_launcher.py:22: RuntimeWarning: invalid value encountered in double_scalars\n"
     ]
    },
    {
     "data": {
      "text/plain": [
       "(8, 0.019999999999999934, 121.20982142857143, 216.21495327102804)"
      ]
     },
     "execution_count": 10,
     "metadata": {},
     "output_type": "execute_result"
    }
   ],
   "source": [
    "decision_stump_regressor.fit(X_train,y_train)"
   ]
  },
  {
   "cell_type": "code",
   "execution_count": 11,
   "metadata": {},
   "outputs": [
    {
     "name": "stdout",
     "output_type": "stream",
     "text": [
      "fit_Time:  0.03276099999993676\n",
      "predicted_Time:  0.00011919999997189734\n"
     ]
    },
    {
     "name": "stderr",
     "output_type": "stream",
     "text": [
      "C:\\ProgramData\\Anaconda3\\lib\\site-packages\\ipykernel_launcher.py:22: RuntimeWarning: invalid value encountered in double_scalars\n"
     ]
    },
    {
     "data": {
      "text/plain": [
       "array([121.20982143, 216.21495327, 121.20982143, 121.20982143,\n",
       "       121.20982143, 216.21495327, 121.20982143, 216.21495327,\n",
       "       121.20982143, 216.21495327, 216.21495327, 121.20982143,\n",
       "       121.20982143, 121.20982143, 216.21495327, 121.20982143,\n",
       "       121.20982143, 121.20982143, 121.20982143, 121.20982143,\n",
       "       121.20982143, 121.20982143, 216.21495327, 121.20982143,\n",
       "       216.21495327, 216.21495327, 121.20982143, 121.20982143,\n",
       "       216.21495327, 121.20982143, 216.21495327, 121.20982143,\n",
       "       121.20982143, 121.20982143, 216.21495327, 121.20982143,\n",
       "       121.20982143, 121.20982143, 121.20982143, 216.21495327,\n",
       "       121.20982143, 216.21495327, 216.21495327, 216.21495327,\n",
       "       121.20982143, 121.20982143, 121.20982143, 121.20982143,\n",
       "       121.20982143, 216.21495327, 121.20982143, 121.20982143,\n",
       "       121.20982143, 216.21495327, 216.21495327, 216.21495327,\n",
       "       216.21495327, 121.20982143, 121.20982143, 216.21495327,\n",
       "       216.21495327, 121.20982143, 121.20982143, 121.20982143,\n",
       "       216.21495327, 121.20982143, 121.20982143, 216.21495327,\n",
       "       216.21495327, 121.20982143, 121.20982143, 216.21495327,\n",
       "       121.20982143, 121.20982143, 121.20982143, 216.21495327,\n",
       "       121.20982143, 216.21495327, 216.21495327, 216.21495327,\n",
       "       121.20982143, 216.21495327, 121.20982143, 216.21495327,\n",
       "       121.20982143, 121.20982143, 121.20982143, 216.21495327,\n",
       "       121.20982143, 121.20982143, 121.20982143, 121.20982143,\n",
       "       121.20982143, 121.20982143, 121.20982143, 121.20982143,\n",
       "       216.21495327, 121.20982143, 121.20982143, 121.20982143,\n",
       "       216.21495327, 121.20982143, 216.21495327, 121.20982143,\n",
       "       216.21495327, 121.20982143, 216.21495327, 216.21495327,\n",
       "       121.20982143, 121.20982143, 216.21495327])"
      ]
     },
     "execution_count": 11,
     "metadata": {},
     "output_type": "execute_result"
    }
   ],
   "source": [
    "decision_stump_regressor.predict(X_train,y_train,X_test)  "
   ]
  },
  {
   "cell_type": "code",
   "execution_count": 12,
   "metadata": {},
   "outputs": [
    {
     "name": "stdout",
     "output_type": "stream",
     "text": [
      "fit_Time:  0.048143700000309764\n"
     ]
    },
    {
     "name": "stderr",
     "output_type": "stream",
     "text": [
      "C:\\ProgramData\\Anaconda3\\lib\\site-packages\\ipykernel_launcher.py:22: RuntimeWarning: invalid value encountered in double_scalars\n"
     ]
    },
    {
     "data": {
      "text/plain": [
       "4558.579456710617"
      ]
     },
     "execution_count": 12,
     "metadata": {},
     "output_type": "execute_result"
    }
   ],
   "source": [
    "decision_stump_regressor.MSE(X_train,y_train,X_test,y_test)    "
   ]
  }
 ],
 "metadata": {
  "kernelspec": {
   "display_name": "Python 3",
   "language": "python",
   "name": "python3"
  },
  "language_info": {
   "codemirror_mode": {
    "name": "ipython",
    "version": 3
   },
   "file_extension": ".py",
   "mimetype": "text/x-python",
   "name": "python",
   "nbconvert_exporter": "python",
   "pygments_lexer": "ipython3",
   "version": "3.7.6"
  }
 },
 "nbformat": 4,
 "nbformat_minor": 4
}
