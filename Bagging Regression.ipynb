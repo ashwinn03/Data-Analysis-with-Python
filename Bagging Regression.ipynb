{
 "cells": [
  {
   "cell_type": "markdown",
   "metadata": {},
   "source": [
    "## importing libraries"
   ]
  },
  {
   "cell_type": "code",
   "execution_count": 1,
   "metadata": {},
   "outputs": [
    {
     "data": {
      "text/plain": [
       "'C:\\\\Users\\\\SHUNVI\\\\Documents\\\\PG 2019\\\\Royal Holloway University of London\\\\MSc Data Science and Analytics with a year in Industry\\\\Study Material\\\\Project\\\\Codes\\\\Final Codes'"
      ]
     },
     "execution_count": 1,
     "metadata": {},
     "output_type": "execute_result"
    }
   ],
   "source": [
    "import numpy as np\n",
    "import pandas as pd\n",
    "import os\n",
    "import math\n",
    "import timeit\n",
    "from sklearn.model_selection import train_test_split\n",
    "from sklearn.datasets import load_boston\n",
    "from sklearn.datasets import load_diabetes\n",
    "import random\n",
    "os.getcwd()"
   ]
  },
  {
   "cell_type": "markdown",
   "metadata": {},
   "source": [
    "# Boston Dataset"
   ]
  },
  {
   "cell_type": "code",
   "execution_count": 3,
   "metadata": {},
   "outputs": [],
   "source": [
    "boston = load_boston()\n",
    "X_train, X_test, y_train, y_test = train_test_split(boston.data, boston.target, random_state = 0)"
   ]
  },
  {
   "cell_type": "code",
   "execution_count": 5,
   "metadata": {},
   "outputs": [
    {
     "data": {
      "text/plain": [
       "array([6.3200e-03, 0.0000e+00, 4.6000e-01, 0.0000e+00, 3.8500e-01,\n",
       "       3.5610e+00, 2.9000e+00, 1.1742e+00, 1.0000e+00, 1.8700e+02,\n",
       "       1.2600e+01, 3.2000e-01, 1.7300e+00])"
      ]
     },
     "execution_count": 5,
     "metadata": {},
     "output_type": "execute_result"
    }
   ],
   "source": [
    "(np.min(X_train, axis = 0) * 10) * 0.1"
   ]
  },
  {
   "cell_type": "code",
   "execution_count": 6,
   "metadata": {},
   "outputs": [
    {
     "data": {
      "text/plain": [
       "array([1.00e-01, 0.00e+00, 5.00e-01, 0.00e+00, 4.00e-01, 3.60e+00,\n",
       "       2.90e+00, 1.20e+00, 1.00e+00, 1.87e+02, 1.26e+01, 4.00e-01,\n",
       "       1.80e+00])"
      ]
     },
     "execution_count": 6,
     "metadata": {},
     "output_type": "execute_result"
    }
   ],
   "source": [
    "np.ceil(np.min(X_train, axis = 0) * 10) * 0.1"
   ]
  },
  {
   "cell_type": "code",
   "execution_count": 4,
   "metadata": {},
   "outputs": [
    {
     "data": {
      "text/plain": [
       "array([1.00e-01, 0.00e+00, 5.00e-01, 0.00e+00, 4.00e-01, 3.60e+00,\n",
       "       2.90e+00, 1.20e+00, 1.00e+00, 1.87e+02, 1.26e+01, 4.00e-01,\n",
       "       1.80e+00])"
      ]
     },
     "execution_count": 4,
     "metadata": {},
     "output_type": "execute_result"
    }
   ],
   "source": [
    "first=np.ceil(np.min(X_train,axis=0)*10)*0.1\n",
    "first"
   ]
  },
  {
   "cell_type": "markdown",
   "metadata": {},
   "source": [
    " ## Decision Stump Regression"
   ]
  },
  {
   "cell_type": "code",
   "execution_count": 3,
   "metadata": {},
   "outputs": [],
   "source": [
    "class decision_stump_regressor:\n",
    "    \n",
    "    def fit(X_train,y_train):\n",
    "        import timeit\n",
    "        first=np.ceil(np.min(X_train,axis=0)*10)*0.1\n",
    "        last=np.ceil(np.max(X_train,axis=0)*10)*0.1\n",
    "\n",
    "        best_attribute=0\n",
    "        best_split_pt=0\n",
    "        best_RSS=math.inf\n",
    "        best_y_less=0\n",
    "        best_y_great=0\n",
    "        y_less=0\n",
    "        y_great=0\n",
    "        \n",
    "\n",
    "        start = timeit.default_timer()\n",
    "        for i in range(X_train.shape[1]):\n",
    "            for s in np.arange(first[i],last[i],0.01):\n",
    "                RSS=0\n",
    "                y_less=np.nan_to_num(np.sum(y_train[X_train[:,i]<s])/np.sum(X_train[:,i]<s))\n",
    "                y_great=np.nan_to_num(np.sum(y_train[X_train[:,i]>=s])/np.sum(X_train[:,i]>=s))\n",
    "                RSS=np.sum((y_train[X_train[:,i]<s]-y_less)**2)+np.sum((y_train[X_train[:,i]>=s]-y_great)**2)\n",
    "                #if i==9:\n",
    "                    #print(\"{} {} {} {}\".format(s,y_less,y_great,RSS))\n",
    "                if RSS<best_RSS:\n",
    "                    best_attribute=i\n",
    "                    best_split_pt=s\n",
    "                    best_RSS=RSS\n",
    "                    best_y_less=y_less\n",
    "                    best_y_great=y_great\n",
    "            #print(\"{} {}  {}  {}  {}  {}\".format(i,data_numpy.feature_names[best_attribute],best_split_pt,best_RSS,best_y_less,best_y_great))     \n",
    "            #print(\"{} {}  {}  {}  {}\".format(i,best_split_pt,best_RSS,best_y_less,best_y_great)) \n",
    "        stop = timeit.default_timer()\n",
    "        print('fit_Time: ', stop - start) \n",
    "        return (best_attribute,best_split_pt,best_y_less,best_y_great)\n",
    "    def predict(X_train,y_train,X_test):\n",
    "        import timeit\n",
    "        best_attribute,best_split_pt,best_y_less,best_y_great=decision_stump_regressor.fit(X_train,y_train) \n",
    "        start = timeit.default_timer()\n",
    "        #print(decision_stump_regressor.fit(X_train,y_train) )\n",
    "        predict=list(X_test[:,best_attribute]<best_split_pt)\n",
    "        for i in range(len(predict)):\n",
    "            if predict[i]==True:\n",
    "                predict[i]=best_y_less\n",
    "            else:\n",
    "                predict[i]=best_y_great\n",
    "        stop = timeit.default_timer()\n",
    "        print('predicted_Time: ', stop - start) \n",
    "        return np.array(predict)    \n",
    "    def MSE(X_train,y_train,X_test,y_test):\n",
    "        best_attribute,best_split_pt,best_y_less,best_y_great=decision_stump_regressor.fit(X_train,y_train) \n",
    "        Test_RSS=np.sum((y_test[X_test[:,best_attribute]<best_split_pt]-best_y_less)**2)+np.sum((y_test[X_test[:,best_attribute]>=best_split_pt]-best_y_great)**2)\n",
    "        return Test_RSS/X_test.shape[0]"
   ]
  },
  {
   "cell_type": "code",
   "execution_count": 4,
   "metadata": {},
   "outputs": [
    {
     "name": "stderr",
     "output_type": "stream",
     "text": [
      "C:\\ProgramData\\Anaconda3\\lib\\site-packages\\ipykernel_launcher.py:22: RuntimeWarning: invalid value encountered in double_scalars\n",
      "C:\\ProgramData\\Anaconda3\\lib\\site-packages\\ipykernel_launcher.py:21: RuntimeWarning: invalid value encountered in double_scalars\n"
     ]
    },
    {
     "name": "stdout",
     "output_type": "stream",
     "text": [
      "fit_Time:  22.778704800000003\n"
     ]
    },
    {
     "data": {
      "text/plain": [
       "(12, 8.100000000000007, 31.158518518518516, 17.87827868852459)"
      ]
     },
     "execution_count": 4,
     "metadata": {},
     "output_type": "execute_result"
    }
   ],
   "source": [
    "decision_stump_regressor.fit(X_train,y_train)"
   ]
  },
  {
   "cell_type": "code",
   "execution_count": 5,
   "metadata": {},
   "outputs": [
    {
     "name": "stderr",
     "output_type": "stream",
     "text": [
      "C:\\ProgramData\\Anaconda3\\lib\\site-packages\\ipykernel_launcher.py:22: RuntimeWarning: invalid value encountered in double_scalars\n",
      "C:\\ProgramData\\Anaconda3\\lib\\site-packages\\ipykernel_launcher.py:21: RuntimeWarning: invalid value encountered in double_scalars\n"
     ]
    },
    {
     "name": "stdout",
     "output_type": "stream",
     "text": [
      "fit_Time:  25.27712110000001\n",
      "predicted_Time:  0.00015910000000474156\n"
     ]
    },
    {
     "data": {
      "text/plain": [
       "array([31.15851852, 17.87827869, 17.87827869, 17.87827869, 17.87827869,\n",
       "       17.87827869, 17.87827869, 17.87827869, 17.87827869, 17.87827869,\n",
       "       17.87827869, 17.87827869, 17.87827869, 17.87827869, 31.15851852,\n",
       "       31.15851852, 17.87827869, 31.15851852, 31.15851852, 17.87827869,\n",
       "       31.15851852, 17.87827869, 17.87827869, 31.15851852, 17.87827869,\n",
       "       17.87827869, 17.87827869, 17.87827869, 31.15851852, 17.87827869,\n",
       "       17.87827869, 17.87827869, 17.87827869, 17.87827869, 17.87827869,\n",
       "       17.87827869, 17.87827869, 17.87827869, 17.87827869, 17.87827869,\n",
       "       17.87827869, 17.87827869, 17.87827869, 17.87827869, 17.87827869,\n",
       "       17.87827869, 17.87827869, 17.87827869, 17.87827869, 17.87827869,\n",
       "       17.87827869, 17.87827869, 17.87827869, 31.15851852, 17.87827869,\n",
       "       17.87827869, 17.87827869, 17.87827869, 17.87827869, 17.87827869,\n",
       "       31.15851852, 17.87827869, 31.15851852, 31.15851852, 17.87827869,\n",
       "       31.15851852, 17.87827869, 17.87827869, 17.87827869, 17.87827869,\n",
       "       17.87827869, 17.87827869, 31.15851852, 31.15851852, 31.15851852,\n",
       "       17.87827869, 31.15851852, 17.87827869, 17.87827869, 17.87827869,\n",
       "       31.15851852, 17.87827869, 17.87827869, 31.15851852, 31.15851852,\n",
       "       31.15851852, 17.87827869, 17.87827869, 31.15851852, 17.87827869,\n",
       "       17.87827869, 17.87827869, 31.15851852, 31.15851852, 31.15851852,\n",
       "       17.87827869, 17.87827869, 31.15851852, 17.87827869, 17.87827869,\n",
       "       17.87827869, 17.87827869, 17.87827869, 17.87827869, 17.87827869,\n",
       "       17.87827869, 17.87827869, 17.87827869, 17.87827869, 17.87827869,\n",
       "       31.15851852, 17.87827869, 17.87827869, 17.87827869, 17.87827869,\n",
       "       17.87827869, 17.87827869, 17.87827869, 17.87827869, 31.15851852,\n",
       "       31.15851852, 17.87827869, 17.87827869, 17.87827869, 17.87827869,\n",
       "       17.87827869, 31.15851852])"
      ]
     },
     "execution_count": 5,
     "metadata": {},
     "output_type": "execute_result"
    }
   ],
   "source": [
    "decision_stump_regressor.predict(X_train,y_train,X_test)"
   ]
  },
  {
   "cell_type": "code",
   "execution_count": 6,
   "metadata": {},
   "outputs": [
    {
     "name": "stderr",
     "output_type": "stream",
     "text": [
      "C:\\ProgramData\\Anaconda3\\lib\\site-packages\\ipykernel_launcher.py:22: RuntimeWarning: invalid value encountered in double_scalars\n",
      "C:\\ProgramData\\Anaconda3\\lib\\site-packages\\ipykernel_launcher.py:21: RuntimeWarning: invalid value encountered in double_scalars\n"
     ]
    },
    {
     "name": "stdout",
     "output_type": "stream",
     "text": [
      "fit_Time:  23.9360578\n"
     ]
    },
    {
     "data": {
      "text/plain": [
       "58.27672228770273"
      ]
     },
     "execution_count": 6,
     "metadata": {},
     "output_type": "execute_result"
    }
   ],
   "source": [
    "decision_stump_regressor.MSE(X_train,y_train,X_test,y_test)"
   ]
  },
  {
   "cell_type": "markdown",
   "metadata": {},
   "source": [
    "## Bagging Regression"
   ]
  },
  {
   "cell_type": "code",
   "execution_count": null,
   "metadata": {},
   "outputs": [],
   "source": [
    "def bagging_regressor(X_train,y_train,X_test,B=50,n=int(0.66*(X_train.shape[0]))):\n",
    "    import timeit\n",
    "\n",
    "    start1 = timeit.default_timer()\n",
    "\n",
    "\n",
    "\n",
    "         \n",
    "    \n",
    "    prediction=np.zeros((X_test.shape[0],B))\n",
    "    for i in range(B):\n",
    "        start = timeit.default_timer()\n",
    "        bag=list(np.random.choice(X_train.shape[0], n))\n",
    "        #print(bag)\n",
    "        boostrap_data=X_train[bag,]\n",
    "        boostrap_label=y_train[bag]\n",
    "        prediction[:,i]=decision_stump_regressor.predict(boostrap_data,boostrap_label,X_test) \n",
    "        \n",
    "        stop = timeit.default_timer()\n",
    "\n",
    "        print('no of trees {} and Time {}: '.format(i,stop - start))\n",
    "    stop1 = timeit.default_timer()   \n",
    "    print('total Time {}:' +str(stop1 - start1))\n",
    "    return np.mean(prediction,axis=1) "
   ]
  },
  {
   "cell_type": "code",
   "execution_count": 11,
   "metadata": {},
   "outputs": [
    {
     "name": "stderr",
     "output_type": "stream",
     "text": [
      "C:\\ProgramData\\Anaconda3\\lib\\site-packages\\ipykernel_launcher.py:22: RuntimeWarning: invalid value encountered in double_scalars\n",
      "C:\\ProgramData\\Anaconda3\\lib\\site-packages\\ipykernel_launcher.py:21: RuntimeWarning: invalid value encountered in double_scalars\n"
     ]
    },
    {
     "name": "stdout",
     "output_type": "stream",
     "text": [
      "fit_Time:  12.907058800000016\n",
      "predicted_Time:  0.0001393000000007305\n",
      "no of trees 0 and Time 12.907984199999987: \n",
      "fit_Time:  12.85137229999998\n",
      "predicted_Time:  0.0001475999999911437\n",
      "no of trees 1 and Time 12.8519589: \n",
      "fit_Time:  12.894866499999978\n",
      "predicted_Time:  0.00013900000004696267\n",
      "no of trees 2 and Time 12.895630500000038: \n",
      "fit_Time:  13.268202299999984\n",
      "predicted_Time:  0.0002343999999538937\n",
      "no of trees 3 and Time 13.269940599999984: \n",
      "fit_Time:  14.819020899999998\n",
      "predicted_Time:  0.00013910000001260414\n",
      "no of trees 4 and Time 14.821766299999979: \n",
      "fit_Time:  13.224546599999996\n",
      "predicted_Time:  0.00014240000001564113\n",
      "no of trees 5 and Time 13.225650199999961: \n",
      "fit_Time:  12.941203700000017\n",
      "predicted_Time:  0.0001393000000007305\n",
      "no of trees 6 and Time 12.941956799999957: \n",
      "fit_Time:  12.834415000000035\n",
      "predicted_Time:  0.00013759999995954786\n",
      "no of trees 7 and Time 12.835277399999995: \n",
      "fit_Time:  12.758288800000003\n",
      "predicted_Time:  0.000140600000008817\n",
      "no of trees 8 and Time 12.759281799999997: \n",
      "fit_Time:  12.499043599999993\n",
      "predicted_Time:  0.000138699999979508\n",
      "no of trees 9 and Time 12.50007149999999: \n",
      "fit_Time:  13.255138199999976\n",
      "predicted_Time:  0.00013919999997824561\n",
      "no of trees 10 and Time 13.255881699999975: \n",
      "fit_Time:  12.838240699999972\n",
      "predicted_Time:  0.0001405999999519736\n",
      "no of trees 11 and Time 12.838992299999973: \n",
      "fit_Time:  12.883501899999999\n",
      "predicted_Time:  0.00013959999995449834\n",
      "no of trees 12 and Time 12.884807899999998: \n",
      "fit_Time:  12.7261125\n",
      "predicted_Time:  0.00014020000003256428\n",
      "no of trees 13 and Time 12.726979900000003: \n",
      "fit_Time:  12.789991899999904\n",
      "predicted_Time:  0.0001452000000199405\n",
      "no of trees 14 and Time 12.790900399999941: \n",
      "fit_Time:  12.68861179999999\n",
      "predicted_Time:  0.00013760000001639128\n",
      "no of trees 15 and Time 12.689291700000012: \n",
      "fit_Time:  12.85311999999999\n",
      "predicted_Time:  0.0001393000000007305\n",
      "no of trees 16 and Time 12.853871300000037: \n",
      "fit_Time:  12.807159699999943\n",
      "predicted_Time:  0.00014760000010483054\n",
      "no of trees 17 and Time 12.807728999999995: \n",
      "fit_Time:  12.597656099999995\n",
      "predicted_Time:  0.0001388000000588363\n",
      "no of trees 18 and Time 12.598397100000057: \n",
      "fit_Time:  12.622420799999986\n",
      "predicted_Time:  0.00013860000001386652\n",
      "no of trees 19 and Time 12.62353250000001: \n",
      "fit_Time:  12.403479700000048\n",
      "predicted_Time:  0.00014090000001942826\n",
      "no of trees 20 and Time 12.40440579999995: \n",
      "fit_Time:  12.735240299999987\n",
      "predicted_Time:  0.00013939999996637198\n",
      "no of trees 21 and Time 12.736050299999988: \n",
      "fit_Time:  12.482660699999997\n",
      "predicted_Time:  0.0001393000000007305\n",
      "no of trees 22 and Time 12.48368240000002: \n",
      "fit_Time:  12.727146500000003\n",
      "predicted_Time:  0.00017579999996542028\n",
      "no of trees 23 and Time 12.728002100000026: \n",
      "fit_Time:  12.882516399999986\n",
      "predicted_Time:  0.00013939999996637198\n",
      "no of trees 24 and Time 12.883572999999956: \n",
      "fit_Time:  12.78834130000007\n",
      "predicted_Time:  0.0001390000001038061\n",
      "no of trees 25 and Time 12.78936079999994: \n",
      "fit_Time:  12.887250999999992\n",
      "predicted_Time:  0.000146500000028027\n",
      "no of trees 26 and Time 12.888015400000086: \n",
      "fit_Time:  12.862959600000067\n",
      "predicted_Time:  0.0001397999999426247\n",
      "no of trees 27 and Time 12.863964599999917: \n",
      "fit_Time:  12.634583399999997\n",
      "predicted_Time:  0.00014669999995930993\n",
      "no of trees 28 and Time 12.635158100000012: \n",
      "fit_Time:  12.84167560000003\n",
      "predicted_Time:  0.00014720000001489097\n",
      "no of trees 29 and Time 12.84274090000008: \n",
      "fit_Time:  12.601217399999996\n",
      "predicted_Time:  0.00013780000006136106\n",
      "no of trees 30 and Time 12.601776199999904: \n",
      "fit_Time:  12.295463300000051\n",
      "predicted_Time:  0.00015489999998408166\n",
      "no of trees 31 and Time 12.296619999999962: \n",
      "fit_Time:  12.773999000000003\n",
      "predicted_Time:  0.00013939999996637198\n",
      "no of trees 32 and Time 12.774543999999992: \n",
      "fit_Time:  12.343976999999995\n",
      "predicted_Time:  0.00013619999992897647\n",
      "no of trees 33 and Time 12.34485159999997: \n",
      "fit_Time:  12.547673700000018\n",
      "predicted_Time:  0.00013749999993706297\n",
      "no of trees 34 and Time 12.548671899999931: \n",
      "fit_Time:  12.806507699999997\n",
      "predicted_Time:  0.0001456999999618347\n",
      "no of trees 35 and Time 12.807213299999944: \n",
      "fit_Time:  12.84352709999996\n",
      "predicted_Time:  0.00014019999991887744\n",
      "no of trees 36 and Time 12.844542400000023: \n",
      "fit_Time:  12.651591100000019\n",
      "predicted_Time:  0.0001410999999507112\n",
      "no of trees 37 and Time 12.652695000000108: \n",
      "fit_Time:  12.60809119999999\n",
      "predicted_Time:  0.00014290000001437875\n",
      "no of trees 38 and Time 12.609106899999915: \n",
      "fit_Time:  12.885637599999995\n",
      "predicted_Time:  0.00014170000008562056\n",
      "no of trees 39 and Time 12.886790500000075: \n",
      "fit_Time:  12.74931289999995\n",
      "predicted_Time:  0.00013980000005631155\n",
      "no of trees 40 and Time 12.750045699999987: \n",
      "fit_Time:  12.364211100000034\n",
      "predicted_Time:  0.00014040000007753406\n",
      "no of trees 41 and Time 12.3655258: \n",
      "fit_Time:  12.844529899999998\n",
      "predicted_Time:  0.00013780000006136106\n",
      "no of trees 42 and Time 12.845366199999944: \n",
      "fit_Time:  12.577956900000004\n",
      "predicted_Time:  0.00013830000000325526\n",
      "no of trees 43 and Time 12.578988900000013: \n",
      "fit_Time:  12.365404800000078\n",
      "predicted_Time:  0.00020240000003468595\n",
      "no of trees 44 and Time 12.366188699999952: \n",
      "fit_Time:  12.726928999999927\n",
      "predicted_Time:  0.00013790000002700253\n",
      "no of trees 45 and Time 12.727683700000057: \n",
      "fit_Time:  12.409780499999897\n",
      "predicted_Time:  0.0001443999999537482\n",
      "no of trees 46 and Time 12.410805699999969: \n",
      "fit_Time:  12.523693600000001\n",
      "predicted_Time:  0.00013969999997698324\n",
      "no of trees 47 and Time 12.524583500000062: \n",
      "fit_Time:  12.556460499999957\n",
      "predicted_Time:  0.00013830000000325526\n",
      "no of trees 48 and Time 12.55724530000009: \n",
      "fit_Time:  12.834201199999939\n",
      "predicted_Time:  0.0001391999999214022\n",
      "no of trees 49 and Time 12.835340299999984: \n",
      "total Time {}:638.665476\n"
     ]
    },
    {
     "data": {
      "text/plain": [
       "array([23.39475301, 21.7404591 , 19.17134951, 18.66136746, 18.66136746,\n",
       "       21.7404591 , 18.90667658, 21.7404591 , 18.66136746, 19.17134951,\n",
       "       18.66136746, 19.23549574, 18.66136746, 18.66136746, 34.84700547,\n",
       "       33.96816642, 19.17134951, 34.36422032, 24.0364278 , 21.7404591 ,\n",
       "       23.39475301, 18.66136746, 18.66136746, 23.39475301, 19.17134951,\n",
       "       18.66136746, 18.66136746, 18.66136746, 34.84700547, 18.66136746,\n",
       "       18.66136746, 18.66136746, 19.17134951, 18.66136746, 21.7404591 ,\n",
       "       18.66136746, 18.66136746, 21.7404591 , 18.66136746, 18.66136746,\n",
       "       21.7404591 , 18.66136746, 21.7404591 , 18.66136746, 21.7404591 ,\n",
       "       21.7404591 , 18.66136746, 18.66136746, 18.66136746, 22.31458737,\n",
       "       18.66136746, 18.66136746, 18.90667658, 34.84700547, 18.66136746,\n",
       "       18.66136746, 18.66136746, 18.66136746, 19.6957579 , 18.66136746,\n",
       "       23.09315573, 18.66136746, 33.96816642, 24.33377852, 18.66136746,\n",
       "       24.33377852, 19.23549574, 18.66136746, 24.02221422, 19.17134951,\n",
       "       18.66136746, 21.7404591 , 24.0364278 , 29.39727456, 23.667284  ,\n",
       "       18.66136746, 34.84700547, 19.17134951, 21.7404591 , 18.66136746,\n",
       "       23.96888128, 18.66136746, 18.66136746, 34.84700547, 34.84700547,\n",
       "       23.68848376, 18.90667658, 18.66136746, 23.39475301, 18.66136746,\n",
       "       18.66136746, 19.23549574, 23.68848376, 29.04933052, 23.09315573,\n",
       "       21.7404591 , 18.66136746, 23.68848376, 18.66136746, 18.66136746,\n",
       "       21.7404591 , 18.66136746, 25.8020443 , 19.92048641, 24.26752334,\n",
       "       18.66136746, 18.66136746, 18.66136746, 21.7404591 , 21.7404591 ,\n",
       "       29.39727456, 18.66136746, 18.66136746, 18.66136746, 18.66136746,\n",
       "       18.66136746, 18.66136746, 19.17134951, 18.66136746, 34.84700547,\n",
       "       24.61055607, 18.66136746, 18.66136746, 18.66136746, 19.6957579 ,\n",
       "       18.66136746, 34.49906143])"
      ]
     },
     "execution_count": 11,
     "metadata": {},
     "output_type": "execute_result"
    }
   ],
   "source": [
    "bagging_regressor(X_train,y_train,X_test,B=50,n=int(0.66*(X_train.shape[0])))"
   ]
  },
  {
   "cell_type": "markdown",
   "metadata": {},
   "source": [
    "# Diabetes Dataset"
   ]
  },
  {
   "cell_type": "code",
   "execution_count": 12,
   "metadata": {},
   "outputs": [],
   "source": [
    "diabetes = load_diabetes()\n",
    "X_train, X_test, y_train, y_test = train_test_split(diabetes.data, diabetes.target, random_state = 0)"
   ]
  },
  {
   "cell_type": "code",
   "execution_count": 13,
   "metadata": {},
   "outputs": [
    {
     "name": "stdout",
     "output_type": "stream",
     "text": [
      "fit_Time:  0.033484300000054645\n"
     ]
    },
    {
     "name": "stderr",
     "output_type": "stream",
     "text": [
      "C:\\ProgramData\\Anaconda3\\lib\\site-packages\\ipykernel_launcher.py:22: RuntimeWarning: invalid value encountered in double_scalars\n"
     ]
    },
    {
     "data": {
      "text/plain": [
       "(8, 0.019999999999999934, 121.20982142857143, 216.21495327102804)"
      ]
     },
     "execution_count": 13,
     "metadata": {},
     "output_type": "execute_result"
    }
   ],
   "source": [
    "decision_stump_regressor.fit(X_train,y_train)"
   ]
  },
  {
   "cell_type": "code",
   "execution_count": 14,
   "metadata": {},
   "outputs": [
    {
     "name": "stdout",
     "output_type": "stream",
     "text": [
      "fit_Time:  0.04306319999977859\n",
      "predicted_Time:  0.00013440000020636944\n"
     ]
    },
    {
     "name": "stderr",
     "output_type": "stream",
     "text": [
      "C:\\ProgramData\\Anaconda3\\lib\\site-packages\\ipykernel_launcher.py:22: RuntimeWarning: invalid value encountered in double_scalars\n"
     ]
    },
    {
     "data": {
      "text/plain": [
       "array([121.20982143, 216.21495327, 121.20982143, 121.20982143,\n",
       "       121.20982143, 216.21495327, 121.20982143, 216.21495327,\n",
       "       121.20982143, 216.21495327, 216.21495327, 121.20982143,\n",
       "       121.20982143, 121.20982143, 216.21495327, 121.20982143,\n",
       "       121.20982143, 121.20982143, 121.20982143, 121.20982143,\n",
       "       121.20982143, 121.20982143, 216.21495327, 121.20982143,\n",
       "       216.21495327, 216.21495327, 121.20982143, 121.20982143,\n",
       "       216.21495327, 121.20982143, 216.21495327, 121.20982143,\n",
       "       121.20982143, 121.20982143, 216.21495327, 121.20982143,\n",
       "       121.20982143, 121.20982143, 121.20982143, 216.21495327,\n",
       "       121.20982143, 216.21495327, 216.21495327, 216.21495327,\n",
       "       121.20982143, 121.20982143, 121.20982143, 121.20982143,\n",
       "       121.20982143, 216.21495327, 121.20982143, 121.20982143,\n",
       "       121.20982143, 216.21495327, 216.21495327, 216.21495327,\n",
       "       216.21495327, 121.20982143, 121.20982143, 216.21495327,\n",
       "       216.21495327, 121.20982143, 121.20982143, 121.20982143,\n",
       "       216.21495327, 121.20982143, 121.20982143, 216.21495327,\n",
       "       216.21495327, 121.20982143, 121.20982143, 216.21495327,\n",
       "       121.20982143, 121.20982143, 121.20982143, 216.21495327,\n",
       "       121.20982143, 216.21495327, 216.21495327, 216.21495327,\n",
       "       121.20982143, 216.21495327, 121.20982143, 216.21495327,\n",
       "       121.20982143, 121.20982143, 121.20982143, 216.21495327,\n",
       "       121.20982143, 121.20982143, 121.20982143, 121.20982143,\n",
       "       121.20982143, 121.20982143, 121.20982143, 121.20982143,\n",
       "       216.21495327, 121.20982143, 121.20982143, 121.20982143,\n",
       "       216.21495327, 121.20982143, 216.21495327, 121.20982143,\n",
       "       216.21495327, 121.20982143, 216.21495327, 216.21495327,\n",
       "       121.20982143, 121.20982143, 216.21495327])"
      ]
     },
     "execution_count": 14,
     "metadata": {},
     "output_type": "execute_result"
    }
   ],
   "source": [
    "decision_stump_regressor.predict(X_train,y_train,X_test)"
   ]
  },
  {
   "cell_type": "code",
   "execution_count": 15,
   "metadata": {},
   "outputs": [
    {
     "name": "stdout",
     "output_type": "stream",
     "text": [
      "fit_Time:  0.04875510000010763\n"
     ]
    },
    {
     "name": "stderr",
     "output_type": "stream",
     "text": [
      "C:\\ProgramData\\Anaconda3\\lib\\site-packages\\ipykernel_launcher.py:22: RuntimeWarning: invalid value encountered in double_scalars\n"
     ]
    },
    {
     "data": {
      "text/plain": [
       "4558.579456710617"
      ]
     },
     "execution_count": 15,
     "metadata": {},
     "output_type": "execute_result"
    }
   ],
   "source": [
    "decision_stump_regressor.MSE(X_train,y_train,X_test,y_test)"
   ]
  },
  {
   "cell_type": "code",
   "execution_count": 16,
   "metadata": {},
   "outputs": [
    {
     "name": "stderr",
     "output_type": "stream",
     "text": [
      "C:\\ProgramData\\Anaconda3\\lib\\site-packages\\ipykernel_launcher.py:22: RuntimeWarning: invalid value encountered in double_scalars\n"
     ]
    },
    {
     "name": "stdout",
     "output_type": "stream",
     "text": [
      "fit_Time:  0.03390289999970264\n",
      "predicted_Time:  0.0001366999999845575\n",
      "no of trees 0 and Time 0.034645499999896856: \n",
      "fit_Time:  0.03293200000007346\n",
      "predicted_Time:  0.00011919999997189734\n",
      "no of trees 1 and Time 0.03424880000011399: \n",
      "fit_Time:  0.02455260000033377\n",
      "predicted_Time:  0.00012240000023666653\n",
      "no of trees 2 and Time 0.02521679999972548: \n",
      "fit_Time:  0.024261900000055903\n",
      "predicted_Time:  0.00011680000034175464\n",
      "no of trees 3 and Time 0.0247681000000739: \n",
      "fit_Time:  0.025905999999849882\n",
      "predicted_Time:  0.00011769999991884106\n",
      "no of trees 4 and Time 0.02633449999984805: \n",
      "fit_Time:  0.02627859999984139\n",
      "predicted_Time:  0.00012030000016238773\n",
      "no of trees 5 and Time 0.026729600000180653: \n",
      "fit_Time:  0.02545349999991231\n",
      "predicted_Time:  0.00012019999985568575\n",
      "no of trees 6 and Time 0.026039899999886984: \n",
      "fit_Time:  0.025025700000242068\n",
      "predicted_Time:  0.00011770000037358841\n",
      "no of trees 7 and Time 0.02541139999993902: \n",
      "fit_Time:  0.025442199999815784\n",
      "predicted_Time:  0.00011519999998199637\n",
      "no of trees 8 and Time 0.026086100000156875: \n",
      "fit_Time:  0.02288429999998698\n",
      "predicted_Time:  0.00011760000006688642\n",
      "no of trees 9 and Time 0.023254799999904208: \n",
      "fit_Time:  0.02555610000035813\n",
      "predicted_Time:  0.00011719999974957318\n",
      "no of trees 10 and Time 0.025912499999776628: \n",
      "fit_Time:  0.030935299999782728\n",
      "predicted_Time:  0.00015070000017658458\n",
      "no of trees 11 and Time 0.03314940000018396: \n",
      "fit_Time:  0.02670899999975518\n",
      "predicted_Time:  0.00012010000000373111\n",
      "no of trees 12 and Time 0.028925600000093254: \n",
      "fit_Time:  0.029939999999896827\n",
      "predicted_Time:  0.00013719999969907803\n",
      "no of trees 13 and Time 0.03092130000004545: \n",
      "fit_Time:  0.024662000000262196\n",
      "predicted_Time:  0.00011830000039481092\n",
      "no of trees 14 and Time 0.025959699999930308: \n",
      "fit_Time:  0.025617000000238477\n",
      "predicted_Time:  0.00012060000017299899\n",
      "no of trees 15 and Time 0.026078200000029028: \n",
      "fit_Time:  0.02529869999989387\n",
      "predicted_Time:  0.0001171000003523659\n",
      "no of trees 16 and Time 0.025841199999831588: \n",
      "fit_Time:  0.024034000000028755\n",
      "predicted_Time:  0.00011480000011943048\n",
      "no of trees 17 and Time 0.024551099999825965: \n",
      "fit_Time:  0.026693499999964843\n",
      "predicted_Time:  0.00012019999985568575\n",
      "no of trees 18 and Time 0.027141699999901903: \n",
      "fit_Time:  0.025661700000000565\n",
      "predicted_Time:  0.00011789999962275033\n",
      "no of trees 19 and Time 0.02604849999988801: \n",
      "fit_Time:  0.02658190000011018\n",
      "predicted_Time:  0.00012489999971876387\n",
      "no of trees 20 and Time 0.027037299999847164: \n",
      "fit_Time:  0.02507530000002589\n",
      "predicted_Time:  0.00011849999964397284\n",
      "no of trees 21 and Time 0.026644000000032975: \n",
      "fit_Time:  0.022959800000080577\n",
      "predicted_Time:  0.00011689999973896192\n",
      "no of trees 22 and Time 0.023479600000428036: \n",
      "fit_Time:  0.026408600000195293\n",
      "predicted_Time:  0.00012130000004617614\n",
      "no of trees 23 and Time 0.026794299999892246: \n",
      "fit_Time:  0.024078299999928277\n",
      "predicted_Time:  0.0001164000000244414\n",
      "no of trees 24 and Time 0.02445430000034321: \n",
      "fit_Time:  0.024439699999675213\n",
      "predicted_Time:  0.00011769999991884106\n",
      "no of trees 25 and Time 0.024804500000300322: \n",
      "fit_Time:  0.02996560000019599\n",
      "predicted_Time:  0.00011859999995067483\n",
      "no of trees 26 and Time 0.03041399999983696: \n",
      "fit_Time:  0.02642409999998563\n",
      "predicted_Time:  0.00011650000033114338\n",
      "no of trees 27 and Time 0.02698050000026342: \n",
      "fit_Time:  0.02572680000002947\n",
      "predicted_Time:  0.00011620000032053213\n",
      "no of trees 28 and Time 0.026230699999814533: \n",
      "fit_Time:  0.02400179999995089\n",
      "predicted_Time:  0.00011449999965407187\n",
      "no of trees 29 and Time 0.024363800000173796: \n",
      "fit_Time:  0.026619599999776256\n",
      "predicted_Time:  0.00011750000021493179\n",
      "no of trees 30 and Time 0.026993799999672774: \n",
      "fit_Time:  0.025721799999701034\n",
      "predicted_Time:  0.00011929999982385198\n",
      "no of trees 31 and Time 0.026127900000119553: \n",
      "fit_Time:  0.025540199999795732\n",
      "predicted_Time:  0.00011620000032053213\n",
      "no of trees 32 and Time 0.026152599999932136: \n",
      "fit_Time:  0.022396699999717384\n",
      "predicted_Time:  0.00011660000018309802\n",
      "no of trees 33 and Time 0.02285170000004655: \n",
      "fit_Time:  0.02534379999997327\n",
      "predicted_Time:  0.00011799999992945231\n",
      "no of trees 34 and Time 0.02570479999985764: \n",
      "fit_Time:  0.02437649999956193\n",
      "predicted_Time:  0.00012179999976069666\n",
      "no of trees 35 and Time 0.025038799999947514: \n",
      "fit_Time:  0.025212699999883625\n",
      "predicted_Time:  0.00011790000007749768\n",
      "no of trees 36 and Time 0.025594399999590678: \n",
      "fit_Time:  0.02431239999987156\n",
      "predicted_Time:  0.00012659999993047677\n",
      "no of trees 37 and Time 0.02478239999982179: \n",
      "fit_Time:  0.024846100000104343\n",
      "predicted_Time:  0.00012300000025788904\n",
      "no of trees 38 and Time 0.025274199999785196: \n",
      "fit_Time:  0.02543790000027002\n",
      "predicted_Time:  0.00011979999999311985\n",
      "no of trees 39 and Time 0.02586879999989833: \n",
      "fit_Time:  0.024493899999924906\n",
      "predicted_Time:  0.00011889999996128608\n",
      "no of trees 40 and Time 0.024882199999865406: \n",
      "fit_Time:  0.02717160000020158\n",
      "predicted_Time:  0.00012070000002495362\n",
      "no of trees 41 and Time 0.027571699999953125: \n",
      "fit_Time:  0.023262000000158878\n",
      "predicted_Time:  0.00011819999963336159\n",
      "no of trees 42 and Time 0.02366970000002766: \n",
      "fit_Time:  0.02656539999998131\n",
      "predicted_Time:  0.00011919999997189734\n",
      "no of trees 43 and Time 0.027032299999973475: \n",
      "fit_Time:  0.026360899999872345\n",
      "predicted_Time:  0.0001656999997976527\n",
      "no of trees 44 and Time 0.026942099999814673: \n",
      "fit_Time:  0.026274299999840878\n",
      "predicted_Time:  0.00011720000020432053\n",
      "no of trees 45 and Time 0.026980600000115373: \n",
      "fit_Time:  0.02581559999998717\n",
      "predicted_Time:  0.00018369999997958075\n",
      "no of trees 46 and Time 0.02700730000015028: \n",
      "fit_Time:  0.025413400000161346\n",
      "predicted_Time:  0.00021379999998316634\n",
      "no of trees 47 and Time 0.026637799999662093: \n",
      "fit_Time:  0.02323400000022957\n",
      "predicted_Time:  0.00011720000020432053\n",
      "no of trees 48 and Time 0.023955499999829044: \n",
      "fit_Time:  0.025090600000112318\n",
      "predicted_Time:  0.00012000000015177648\n",
      "no of trees 49 and Time 0.025607699999909528: \n",
      "total Time {}:1.3252158999998755\n"
     ]
    },
    {
     "data": {
      "text/plain": [
       "array([167.64830576, 213.64885534, 131.5227705 , 114.28085526,\n",
       "       150.24697202, 213.64885534, 114.28085526, 213.64885534,\n",
       "       150.24697202, 213.64885534, 177.68273858, 167.64830576,\n",
       "       114.28085526, 114.28085526, 211.78166963, 114.28085526,\n",
       "       131.682189  , 114.28085526, 114.28085526, 150.24697202,\n",
       "       150.24697202, 167.26879397, 175.81555286, 150.24697202,\n",
       "       213.64885534, 211.57178959, 114.28085526, 114.28085526,\n",
       "       193.05746811, 167.64830576, 175.81555286, 114.28085526,\n",
       "       114.28085526, 131.682189  , 177.68273858, 169.34585972,\n",
       "       133.37974296, 133.37974296, 131.5227705 , 213.64885534,\n",
       "       114.28085526, 175.81555286, 177.68273858, 177.68273858,\n",
       "       150.24697202, 114.28085526, 133.37974296, 150.24697202,\n",
       "       133.37974296, 211.78166963, 131.682189  , 114.28085526,\n",
       "       148.16990627, 175.81555286, 213.64885534, 177.68273858,\n",
       "       213.64885534, 114.28085526, 114.28085526, 211.57178959,\n",
       "       213.64885534, 150.24697202, 150.24697202, 114.28085526,\n",
       "       213.64885534, 150.24697202, 114.28085526, 213.64885534,\n",
       "       213.64885534, 114.28085526, 114.28085526, 177.68273858,\n",
       "       131.682189  , 150.24697202, 131.5227705 , 177.68273858,\n",
       "       114.28085526, 213.64885534, 213.64885534, 213.64885534,\n",
       "       114.28085526, 194.92465382, 114.28085526, 211.57178959,\n",
       "       114.28085526, 114.28085526, 150.24697202, 211.57178959,\n",
       "       114.28085526, 148.92410424, 114.28085526, 114.28085526,\n",
       "       131.5227705 , 167.64830576, 114.28085526, 114.28085526,\n",
       "       213.64885534, 150.24697202, 150.24697202, 150.24697202,\n",
       "       175.81555286, 114.28085526, 177.68273858, 114.28085526,\n",
       "       213.64885534, 114.28085526, 213.64885534, 213.64885534,\n",
       "       114.28085526, 114.28085526, 211.57178959])"
      ]
     },
     "execution_count": 16,
     "metadata": {},
     "output_type": "execute_result"
    }
   ],
   "source": [
    "bagging_regressor(X_train,y_train,X_test,B=50,n=int(0.66*(X_train.shape[0])))"
   ]
  },
  {
   "cell_type": "code",
   "execution_count": null,
   "metadata": {},
   "outputs": [],
   "source": []
  }
 ],
 "metadata": {
  "kernelspec": {
   "display_name": "Python 3",
   "language": "python",
   "name": "python3"
  },
  "language_info": {
   "codemirror_mode": {
    "name": "ipython",
    "version": 3
   },
   "file_extension": ".py",
   "mimetype": "text/x-python",
   "name": "python",
   "nbconvert_exporter": "python",
   "pygments_lexer": "ipython3",
   "version": "3.7.6"
  }
 },
 "nbformat": 4,
 "nbformat_minor": 4
}
